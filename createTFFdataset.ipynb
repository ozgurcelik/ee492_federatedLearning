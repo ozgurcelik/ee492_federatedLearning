{
 "cells": [
  {
   "cell_type": "code",
   "execution_count": 1,
   "id": "still-exhibit",
   "metadata": {},
   "outputs": [],
   "source": [
    "import numpy as np\n",
    "import os\n",
    "import glob\n",
    "import PIL\n",
    "import PIL.Image\n",
    "import tensorflow as tf\n",
    "import tensorflow_datasets as tfds\n",
    "import collections\n",
    "from sklearn.model_selection import train_test_split\n",
    "import matplotlib.image as mpimg\n",
    "import matplotlib.pyplot as plt\n",
    "import pandas as pd\n",
    "import tensorflow_federated as tff\n",
    "import random"
   ]
  },
  {
   "cell_type": "code",
   "execution_count": 25,
   "id": "signed-graham",
   "metadata": {},
   "outputs": [
    {
     "name": "stdout",
     "output_type": "stream",
     "text": [
      "0\n"
     ]
    },
    {
     "ename": "ValueError",
     "evalue": "Failed to convert a NumPy array to a Tensor (Unsupported object type numpy.ndarray).",
     "output_type": "error",
     "traceback": [
      "\u001b[1;31m---------------------------------------------------------------------------\u001b[0m",
      "\u001b[1;31mTypeError\u001b[0m                                 Traceback (most recent call last)",
      "\u001b[1;32mc:\\users\\temmuz\\desktop\\tff\\tff_env\\lib\\site-packages\\tensorflow\\python\\data\\util\\structure.py\u001b[0m in \u001b[0;36mnormalize_element\u001b[1;34m(element)\u001b[0m\n\u001b[0;32m     92\u001b[0m       \u001b[1;32mtry\u001b[0m\u001b[1;33m:\u001b[0m\u001b[1;33m\u001b[0m\u001b[1;33m\u001b[0m\u001b[0m\n\u001b[1;32m---> 93\u001b[1;33m         \u001b[0mspec\u001b[0m \u001b[1;33m=\u001b[0m \u001b[0mtype_spec_from_value\u001b[0m\u001b[1;33m(\u001b[0m\u001b[0mt\u001b[0m\u001b[1;33m,\u001b[0m \u001b[0muse_fallback\u001b[0m\u001b[1;33m=\u001b[0m\u001b[1;32mFalse\u001b[0m\u001b[1;33m)\u001b[0m\u001b[1;33m\u001b[0m\u001b[1;33m\u001b[0m\u001b[0m\n\u001b[0m\u001b[0;32m     94\u001b[0m       \u001b[1;32mexcept\u001b[0m \u001b[0mTypeError\u001b[0m\u001b[1;33m:\u001b[0m\u001b[1;33m\u001b[0m\u001b[1;33m\u001b[0m\u001b[0m\n",
      "\u001b[1;32mc:\\users\\temmuz\\desktop\\tff\\tff_env\\lib\\site-packages\\tensorflow\\python\\data\\util\\structure.py\u001b[0m in \u001b[0;36mtype_spec_from_value\u001b[1;34m(element, use_fallback)\u001b[0m\n\u001b[0;32m    465\u001b[0m   raise TypeError(\"Could not build a TypeSpec for %r with type %s\" %\n\u001b[1;32m--> 466\u001b[1;33m                   (element, type(element).__name__))\n\u001b[0m\u001b[0;32m    467\u001b[0m \u001b[1;33m\u001b[0m\u001b[0m\n",
      "\u001b[1;31mTypeError\u001b[0m: Could not build a TypeSpec for 9031    [[[245, 247, 244], [245, 247, 244], [245, 247,...\n8100    [[[67, 59, 46], [66, 58, 45], [64, 56, 43], [6...\n8400    [[[138, 139, 167], [139, 141, 166], [141, 143,...\n828     [[[120, 118, 97], [121, 119, 98], [121, 119, 9...\n6964    [[[115, 99, 73], [115, 99, 73], [115, 99, 73],...\n                              ...                        \n5734    [[[154, 161, 153], [154, 161, 153], [149, 155,...\n5191    [[[127, 128, 132], [128, 129, 133], [129, 128,...\n5390    [[[168, 165, 156], [169, 166, 157], [169, 166,...\n860     [[[155, 153, 140], [153, 151, 138], [150, 148,...\n7270    [[[165, 165, 165], [164, 164, 164], [163, 163,...\nName: image, Length: 8261, dtype: object with type Series",
      "\nDuring handling of the above exception, another exception occurred:\n",
      "\u001b[1;31mValueError\u001b[0m                                Traceback (most recent call last)",
      "\u001b[1;32m<ipython-input-25-4f410e0c41e0>\u001b[0m in \u001b[0;36m<module>\u001b[1;34m\u001b[0m\n\u001b[0;32m     22\u001b[0m     \u001b[0mclient_train_dataset\u001b[0m\u001b[1;33m[\u001b[0m\u001b[0mclient_num\u001b[0m\u001b[1;33m]\u001b[0m \u001b[1;33m=\u001b[0m \u001b[0mdata_train\u001b[0m\u001b[1;33m\u001b[0m\u001b[1;33m\u001b[0m\u001b[0m\n\u001b[0;32m     23\u001b[0m     \u001b[0mclient_test_dataset\u001b[0m\u001b[1;33m[\u001b[0m\u001b[0mclient_num\u001b[0m\u001b[1;33m]\u001b[0m \u001b[1;33m=\u001b[0m \u001b[0mdata_test\u001b[0m\u001b[1;33m\u001b[0m\u001b[1;33m\u001b[0m\u001b[0m\n\u001b[1;32m---> 24\u001b[1;33m \u001b[0mtrain_dataset\u001b[0m \u001b[1;33m=\u001b[0m \u001b[0mtff\u001b[0m\u001b[1;33m.\u001b[0m\u001b[0msimulation\u001b[0m\u001b[1;33m.\u001b[0m\u001b[0mFromTensorSlicesClientData\u001b[0m\u001b[1;33m(\u001b[0m\u001b[0mclient_train_dataset\u001b[0m\u001b[1;33m)\u001b[0m\u001b[1;33m\u001b[0m\u001b[1;33m\u001b[0m\u001b[0m\n\u001b[0m\u001b[0;32m     25\u001b[0m \u001b[0mtest_dataset\u001b[0m \u001b[1;33m=\u001b[0m \u001b[0mtff\u001b[0m\u001b[1;33m.\u001b[0m\u001b[0msimulation\u001b[0m\u001b[1;33m.\u001b[0m\u001b[0mFromTensorSlicesClientData\u001b[0m\u001b[1;33m(\u001b[0m\u001b[0mclient_test_dataset\u001b[0m\u001b[1;33m)\u001b[0m\u001b[1;33m\u001b[0m\u001b[1;33m\u001b[0m\u001b[0m\n",
      "\u001b[1;32mc:\\users\\temmuz\\desktop\\tff\\tff_env\\lib\\site-packages\\tensorflow_federated\\python\\simulation\\from_tensor_slices_client_data.py\u001b[0m in \u001b[0;36m__init__\u001b[1;34m(self, tensor_slices_dict)\u001b[0m\n\u001b[0;32m     37\u001b[0m     \u001b[0mpy_typecheck\u001b[0m\u001b[1;33m.\u001b[0m\u001b[0mcheck_type\u001b[0m\u001b[1;33m(\u001b[0m\u001b[0mtensor_slices_dict\u001b[0m\u001b[1;33m,\u001b[0m \u001b[0mdict\u001b[0m\u001b[1;33m)\u001b[0m\u001b[1;33m\u001b[0m\u001b[1;33m\u001b[0m\u001b[0m\n\u001b[0;32m     38\u001b[0m     \u001b[0mself\u001b[0m\u001b[1;33m.\u001b[0m\u001b[0m_tensor_slices_dict\u001b[0m \u001b[1;33m=\u001b[0m \u001b[0mtensor_slices_dict\u001b[0m\u001b[1;33m\u001b[0m\u001b[1;33m\u001b[0m\u001b[0m\n\u001b[1;32m---> 39\u001b[1;33m     \u001b[0mexample_dataset\u001b[0m \u001b[1;33m=\u001b[0m \u001b[0mself\u001b[0m\u001b[1;33m.\u001b[0m\u001b[0mcreate_tf_dataset_for_client\u001b[0m\u001b[1;33m(\u001b[0m\u001b[0mself\u001b[0m\u001b[1;33m.\u001b[0m\u001b[0mclient_ids\u001b[0m\u001b[1;33m[\u001b[0m\u001b[1;36m0\u001b[0m\u001b[1;33m]\u001b[0m\u001b[1;33m)\u001b[0m\u001b[1;33m\u001b[0m\u001b[1;33m\u001b[0m\u001b[0m\n\u001b[0m\u001b[0;32m     40\u001b[0m     \u001b[0mself\u001b[0m\u001b[1;33m.\u001b[0m\u001b[0m_element_type_structure\u001b[0m \u001b[1;33m=\u001b[0m \u001b[0mexample_dataset\u001b[0m\u001b[1;33m.\u001b[0m\u001b[0melement_spec\u001b[0m\u001b[1;33m\u001b[0m\u001b[1;33m\u001b[0m\u001b[0m\n\u001b[0;32m     41\u001b[0m \u001b[1;33m\u001b[0m\u001b[0m\n",
      "\u001b[1;32mc:\\users\\temmuz\\desktop\\tff\\tff_env\\lib\\site-packages\\tensorflow_federated\\python\\simulation\\from_tensor_slices_client_data.py\u001b[0m in \u001b[0;36mcreate_tf_dataset_for_client\u001b[1;34m(self, client_id)\u001b[0m\n\u001b[0;32m     47\u001b[0m     \u001b[0mtensor_slices\u001b[0m \u001b[1;33m=\u001b[0m \u001b[0mself\u001b[0m\u001b[1;33m.\u001b[0m\u001b[0m_tensor_slices_dict\u001b[0m\u001b[1;33m[\u001b[0m\u001b[0mclient_id\u001b[0m\u001b[1;33m]\u001b[0m\u001b[1;33m\u001b[0m\u001b[1;33m\u001b[0m\u001b[0m\n\u001b[0;32m     48\u001b[0m     \u001b[1;32mif\u001b[0m \u001b[0mtensor_slices\u001b[0m\u001b[1;33m:\u001b[0m\u001b[1;33m\u001b[0m\u001b[1;33m\u001b[0m\u001b[0m\n\u001b[1;32m---> 49\u001b[1;33m       \u001b[1;32mreturn\u001b[0m \u001b[0mtf\u001b[0m\u001b[1;33m.\u001b[0m\u001b[0mdata\u001b[0m\u001b[1;33m.\u001b[0m\u001b[0mDataset\u001b[0m\u001b[1;33m.\u001b[0m\u001b[0mfrom_tensor_slices\u001b[0m\u001b[1;33m(\u001b[0m\u001b[0mtensor_slices\u001b[0m\u001b[1;33m)\u001b[0m\u001b[1;33m\u001b[0m\u001b[1;33m\u001b[0m\u001b[0m\n\u001b[0m\u001b[0;32m     50\u001b[0m     \u001b[1;32melse\u001b[0m\u001b[1;33m:\u001b[0m\u001b[1;33m\u001b[0m\u001b[1;33m\u001b[0m\u001b[0m\n\u001b[0;32m     51\u001b[0m       \u001b[1;32mraise\u001b[0m \u001b[0mValueError\u001b[0m\u001b[1;33m(\u001b[0m\u001b[1;34m'No data found for client {}'\u001b[0m\u001b[1;33m.\u001b[0m\u001b[0mformat\u001b[0m\u001b[1;33m(\u001b[0m\u001b[0mclient_id\u001b[0m\u001b[1;33m)\u001b[0m\u001b[1;33m)\u001b[0m\u001b[1;33m\u001b[0m\u001b[1;33m\u001b[0m\u001b[0m\n",
      "\u001b[1;32mc:\\users\\temmuz\\desktop\\tff\\tff_env\\lib\\site-packages\\tensorflow\\python\\data\\ops\\dataset_ops.py\u001b[0m in \u001b[0;36mfrom_tensor_slices\u001b[1;34m(tensors)\u001b[0m\n\u001b[0;32m    680\u001b[0m       \u001b[0mDataset\u001b[0m\u001b[1;33m:\u001b[0m \u001b[0mA\u001b[0m\u001b[0;31m \u001b[0m\u001b[0;31m`\u001b[0m\u001b[0mDataset\u001b[0m\u001b[0;31m`\u001b[0m\u001b[1;33m.\u001b[0m\u001b[1;33m\u001b[0m\u001b[1;33m\u001b[0m\u001b[0m\n\u001b[0;32m    681\u001b[0m     \"\"\"\n\u001b[1;32m--> 682\u001b[1;33m     \u001b[1;32mreturn\u001b[0m \u001b[0mTensorSliceDataset\u001b[0m\u001b[1;33m(\u001b[0m\u001b[0mtensors\u001b[0m\u001b[1;33m)\u001b[0m\u001b[1;33m\u001b[0m\u001b[1;33m\u001b[0m\u001b[0m\n\u001b[0m\u001b[0;32m    683\u001b[0m \u001b[1;33m\u001b[0m\u001b[0m\n\u001b[0;32m    684\u001b[0m   \u001b[1;32mclass\u001b[0m \u001b[0m_GeneratorState\u001b[0m\u001b[1;33m(\u001b[0m\u001b[0mobject\u001b[0m\u001b[1;33m)\u001b[0m\u001b[1;33m:\u001b[0m\u001b[1;33m\u001b[0m\u001b[1;33m\u001b[0m\u001b[0m\n",
      "\u001b[1;32mc:\\users\\temmuz\\desktop\\tff\\tff_env\\lib\\site-packages\\tensorflow\\python\\data\\ops\\dataset_ops.py\u001b[0m in \u001b[0;36m__init__\u001b[1;34m(self, element)\u001b[0m\n\u001b[0;32m   2999\u001b[0m   \u001b[1;32mdef\u001b[0m \u001b[0m__init__\u001b[0m\u001b[1;33m(\u001b[0m\u001b[0mself\u001b[0m\u001b[1;33m,\u001b[0m \u001b[0melement\u001b[0m\u001b[1;33m)\u001b[0m\u001b[1;33m:\u001b[0m\u001b[1;33m\u001b[0m\u001b[1;33m\u001b[0m\u001b[0m\n\u001b[0;32m   3000\u001b[0m     \u001b[1;34m\"\"\"See `Dataset.from_tensor_slices()` for details.\"\"\"\u001b[0m\u001b[1;33m\u001b[0m\u001b[1;33m\u001b[0m\u001b[0m\n\u001b[1;32m-> 3001\u001b[1;33m     \u001b[0melement\u001b[0m \u001b[1;33m=\u001b[0m \u001b[0mstructure\u001b[0m\u001b[1;33m.\u001b[0m\u001b[0mnormalize_element\u001b[0m\u001b[1;33m(\u001b[0m\u001b[0melement\u001b[0m\u001b[1;33m)\u001b[0m\u001b[1;33m\u001b[0m\u001b[1;33m\u001b[0m\u001b[0m\n\u001b[0m\u001b[0;32m   3002\u001b[0m     \u001b[0mbatched_spec\u001b[0m \u001b[1;33m=\u001b[0m \u001b[0mstructure\u001b[0m\u001b[1;33m.\u001b[0m\u001b[0mtype_spec_from_value\u001b[0m\u001b[1;33m(\u001b[0m\u001b[0melement\u001b[0m\u001b[1;33m)\u001b[0m\u001b[1;33m\u001b[0m\u001b[1;33m\u001b[0m\u001b[0m\n\u001b[0;32m   3003\u001b[0m     \u001b[0mself\u001b[0m\u001b[1;33m.\u001b[0m\u001b[0m_tensors\u001b[0m \u001b[1;33m=\u001b[0m \u001b[0mstructure\u001b[0m\u001b[1;33m.\u001b[0m\u001b[0mto_batched_tensor_list\u001b[0m\u001b[1;33m(\u001b[0m\u001b[0mbatched_spec\u001b[0m\u001b[1;33m,\u001b[0m \u001b[0melement\u001b[0m\u001b[1;33m)\u001b[0m\u001b[1;33m\u001b[0m\u001b[1;33m\u001b[0m\u001b[0m\n",
      "\u001b[1;32mc:\\users\\temmuz\\desktop\\tff\\tff_env\\lib\\site-packages\\tensorflow\\python\\data\\util\\structure.py\u001b[0m in \u001b[0;36mnormalize_element\u001b[1;34m(element)\u001b[0m\n\u001b[0;32m     96\u001b[0m         \u001b[1;31m# the value. As a fallback try converting the value to a tensor.\u001b[0m\u001b[1;33m\u001b[0m\u001b[1;33m\u001b[0m\u001b[1;33m\u001b[0m\u001b[0m\n\u001b[0;32m     97\u001b[0m         normalized_components.append(\n\u001b[1;32m---> 98\u001b[1;33m             ops.convert_to_tensor(t, name=\"component_%d\" % i))\n\u001b[0m\u001b[0;32m     99\u001b[0m       \u001b[1;32melse\u001b[0m\u001b[1;33m:\u001b[0m\u001b[1;33m\u001b[0m\u001b[1;33m\u001b[0m\u001b[0m\n\u001b[0;32m    100\u001b[0m         \u001b[1;32mif\u001b[0m \u001b[0misinstance\u001b[0m\u001b[1;33m(\u001b[0m\u001b[0mspec\u001b[0m\u001b[1;33m,\u001b[0m \u001b[0msparse_tensor\u001b[0m\u001b[1;33m.\u001b[0m\u001b[0mSparseTensorSpec\u001b[0m\u001b[1;33m)\u001b[0m\u001b[1;33m:\u001b[0m\u001b[1;33m\u001b[0m\u001b[1;33m\u001b[0m\u001b[0m\n",
      "\u001b[1;32mc:\\users\\temmuz\\desktop\\tff\\tff_env\\lib\\site-packages\\tensorflow\\python\\framework\\ops.py\u001b[0m in \u001b[0;36mconvert_to_tensor\u001b[1;34m(value, dtype, name, as_ref, preferred_dtype, dtype_hint, ctx, accepted_result_types)\u001b[0m\n\u001b[0;32m   1497\u001b[0m \u001b[1;33m\u001b[0m\u001b[0m\n\u001b[0;32m   1498\u001b[0m     \u001b[1;32mif\u001b[0m \u001b[0mret\u001b[0m \u001b[1;32mis\u001b[0m \u001b[1;32mNone\u001b[0m\u001b[1;33m:\u001b[0m\u001b[1;33m\u001b[0m\u001b[1;33m\u001b[0m\u001b[0m\n\u001b[1;32m-> 1499\u001b[1;33m       \u001b[0mret\u001b[0m \u001b[1;33m=\u001b[0m \u001b[0mconversion_func\u001b[0m\u001b[1;33m(\u001b[0m\u001b[0mvalue\u001b[0m\u001b[1;33m,\u001b[0m \u001b[0mdtype\u001b[0m\u001b[1;33m=\u001b[0m\u001b[0mdtype\u001b[0m\u001b[1;33m,\u001b[0m \u001b[0mname\u001b[0m\u001b[1;33m=\u001b[0m\u001b[0mname\u001b[0m\u001b[1;33m,\u001b[0m \u001b[0mas_ref\u001b[0m\u001b[1;33m=\u001b[0m\u001b[0mas_ref\u001b[0m\u001b[1;33m)\u001b[0m\u001b[1;33m\u001b[0m\u001b[1;33m\u001b[0m\u001b[0m\n\u001b[0m\u001b[0;32m   1500\u001b[0m \u001b[1;33m\u001b[0m\u001b[0m\n\u001b[0;32m   1501\u001b[0m     \u001b[1;32mif\u001b[0m \u001b[0mret\u001b[0m \u001b[1;32mis\u001b[0m \u001b[0mNotImplemented\u001b[0m\u001b[1;33m:\u001b[0m\u001b[1;33m\u001b[0m\u001b[1;33m\u001b[0m\u001b[0m\n",
      "\u001b[1;32mc:\\users\\temmuz\\desktop\\tff\\tff_env\\lib\\site-packages\\tensorflow\\python\\framework\\constant_op.py\u001b[0m in \u001b[0;36m_constant_tensor_conversion_function\u001b[1;34m(v, dtype, name, as_ref)\u001b[0m\n\u001b[0;32m    336\u001b[0m                                          as_ref=False):\n\u001b[0;32m    337\u001b[0m   \u001b[0m_\u001b[0m \u001b[1;33m=\u001b[0m \u001b[0mas_ref\u001b[0m\u001b[1;33m\u001b[0m\u001b[1;33m\u001b[0m\u001b[0m\n\u001b[1;32m--> 338\u001b[1;33m   \u001b[1;32mreturn\u001b[0m \u001b[0mconstant\u001b[0m\u001b[1;33m(\u001b[0m\u001b[0mv\u001b[0m\u001b[1;33m,\u001b[0m \u001b[0mdtype\u001b[0m\u001b[1;33m=\u001b[0m\u001b[0mdtype\u001b[0m\u001b[1;33m,\u001b[0m \u001b[0mname\u001b[0m\u001b[1;33m=\u001b[0m\u001b[0mname\u001b[0m\u001b[1;33m)\u001b[0m\u001b[1;33m\u001b[0m\u001b[1;33m\u001b[0m\u001b[0m\n\u001b[0m\u001b[0;32m    339\u001b[0m \u001b[1;33m\u001b[0m\u001b[0m\n\u001b[0;32m    340\u001b[0m \u001b[1;33m\u001b[0m\u001b[0m\n",
      "\u001b[1;32mc:\\users\\temmuz\\desktop\\tff\\tff_env\\lib\\site-packages\\tensorflow\\python\\framework\\constant_op.py\u001b[0m in \u001b[0;36mconstant\u001b[1;34m(value, dtype, shape, name)\u001b[0m\n\u001b[0;32m    262\u001b[0m   \"\"\"\n\u001b[0;32m    263\u001b[0m   return _constant_impl(value, dtype, shape, name, verify_shape=False,\n\u001b[1;32m--> 264\u001b[1;33m                         allow_broadcast=True)\n\u001b[0m\u001b[0;32m    265\u001b[0m \u001b[1;33m\u001b[0m\u001b[0m\n\u001b[0;32m    266\u001b[0m \u001b[1;33m\u001b[0m\u001b[0m\n",
      "\u001b[1;32mc:\\users\\temmuz\\desktop\\tff\\tff_env\\lib\\site-packages\\tensorflow\\python\\framework\\constant_op.py\u001b[0m in \u001b[0;36m_constant_impl\u001b[1;34m(value, dtype, shape, name, verify_shape, allow_broadcast)\u001b[0m\n\u001b[0;32m    273\u001b[0m       \u001b[1;32mwith\u001b[0m \u001b[0mtrace\u001b[0m\u001b[1;33m.\u001b[0m\u001b[0mTrace\u001b[0m\u001b[1;33m(\u001b[0m\u001b[1;34m\"tf.constant\"\u001b[0m\u001b[1;33m)\u001b[0m\u001b[1;33m:\u001b[0m\u001b[1;33m\u001b[0m\u001b[1;33m\u001b[0m\u001b[0m\n\u001b[0;32m    274\u001b[0m         \u001b[1;32mreturn\u001b[0m \u001b[0m_constant_eager_impl\u001b[0m\u001b[1;33m(\u001b[0m\u001b[0mctx\u001b[0m\u001b[1;33m,\u001b[0m \u001b[0mvalue\u001b[0m\u001b[1;33m,\u001b[0m \u001b[0mdtype\u001b[0m\u001b[1;33m,\u001b[0m \u001b[0mshape\u001b[0m\u001b[1;33m,\u001b[0m \u001b[0mverify_shape\u001b[0m\u001b[1;33m)\u001b[0m\u001b[1;33m\u001b[0m\u001b[1;33m\u001b[0m\u001b[0m\n\u001b[1;32m--> 275\u001b[1;33m     \u001b[1;32mreturn\u001b[0m \u001b[0m_constant_eager_impl\u001b[0m\u001b[1;33m(\u001b[0m\u001b[0mctx\u001b[0m\u001b[1;33m,\u001b[0m \u001b[0mvalue\u001b[0m\u001b[1;33m,\u001b[0m \u001b[0mdtype\u001b[0m\u001b[1;33m,\u001b[0m \u001b[0mshape\u001b[0m\u001b[1;33m,\u001b[0m \u001b[0mverify_shape\u001b[0m\u001b[1;33m)\u001b[0m\u001b[1;33m\u001b[0m\u001b[1;33m\u001b[0m\u001b[0m\n\u001b[0m\u001b[0;32m    276\u001b[0m \u001b[1;33m\u001b[0m\u001b[0m\n\u001b[0;32m    277\u001b[0m   \u001b[0mg\u001b[0m \u001b[1;33m=\u001b[0m \u001b[0mops\u001b[0m\u001b[1;33m.\u001b[0m\u001b[0mget_default_graph\u001b[0m\u001b[1;33m(\u001b[0m\u001b[1;33m)\u001b[0m\u001b[1;33m\u001b[0m\u001b[1;33m\u001b[0m\u001b[0m\n",
      "\u001b[1;32mc:\\users\\temmuz\\desktop\\tff\\tff_env\\lib\\site-packages\\tensorflow\\python\\framework\\constant_op.py\u001b[0m in \u001b[0;36m_constant_eager_impl\u001b[1;34m(ctx, value, dtype, shape, verify_shape)\u001b[0m\n\u001b[0;32m    298\u001b[0m \u001b[1;32mdef\u001b[0m \u001b[0m_constant_eager_impl\u001b[0m\u001b[1;33m(\u001b[0m\u001b[0mctx\u001b[0m\u001b[1;33m,\u001b[0m \u001b[0mvalue\u001b[0m\u001b[1;33m,\u001b[0m \u001b[0mdtype\u001b[0m\u001b[1;33m,\u001b[0m \u001b[0mshape\u001b[0m\u001b[1;33m,\u001b[0m \u001b[0mverify_shape\u001b[0m\u001b[1;33m)\u001b[0m\u001b[1;33m:\u001b[0m\u001b[1;33m\u001b[0m\u001b[1;33m\u001b[0m\u001b[0m\n\u001b[0;32m    299\u001b[0m   \u001b[1;34m\"\"\"Implementation of eager constant.\"\"\"\u001b[0m\u001b[1;33m\u001b[0m\u001b[1;33m\u001b[0m\u001b[0m\n\u001b[1;32m--> 300\u001b[1;33m   \u001b[0mt\u001b[0m \u001b[1;33m=\u001b[0m \u001b[0mconvert_to_eager_tensor\u001b[0m\u001b[1;33m(\u001b[0m\u001b[0mvalue\u001b[0m\u001b[1;33m,\u001b[0m \u001b[0mctx\u001b[0m\u001b[1;33m,\u001b[0m \u001b[0mdtype\u001b[0m\u001b[1;33m)\u001b[0m\u001b[1;33m\u001b[0m\u001b[1;33m\u001b[0m\u001b[0m\n\u001b[0m\u001b[0;32m    301\u001b[0m   \u001b[1;32mif\u001b[0m \u001b[0mshape\u001b[0m \u001b[1;32mis\u001b[0m \u001b[1;32mNone\u001b[0m\u001b[1;33m:\u001b[0m\u001b[1;33m\u001b[0m\u001b[1;33m\u001b[0m\u001b[0m\n\u001b[0;32m    302\u001b[0m     \u001b[1;32mreturn\u001b[0m \u001b[0mt\u001b[0m\u001b[1;33m\u001b[0m\u001b[1;33m\u001b[0m\u001b[0m\n",
      "\u001b[1;32mc:\\users\\temmuz\\desktop\\tff\\tff_env\\lib\\site-packages\\tensorflow\\python\\framework\\constant_op.py\u001b[0m in \u001b[0;36mconvert_to_eager_tensor\u001b[1;34m(value, ctx, dtype)\u001b[0m\n\u001b[0;32m     96\u001b[0m       \u001b[0mdtype\u001b[0m \u001b[1;33m=\u001b[0m \u001b[0mdtypes\u001b[0m\u001b[1;33m.\u001b[0m\u001b[0mas_dtype\u001b[0m\u001b[1;33m(\u001b[0m\u001b[0mdtype\u001b[0m\u001b[1;33m)\u001b[0m\u001b[1;33m.\u001b[0m\u001b[0mas_datatype_enum\u001b[0m\u001b[1;33m\u001b[0m\u001b[1;33m\u001b[0m\u001b[0m\n\u001b[0;32m     97\u001b[0m   \u001b[0mctx\u001b[0m\u001b[1;33m.\u001b[0m\u001b[0mensure_initialized\u001b[0m\u001b[1;33m(\u001b[0m\u001b[1;33m)\u001b[0m\u001b[1;33m\u001b[0m\u001b[1;33m\u001b[0m\u001b[0m\n\u001b[1;32m---> 98\u001b[1;33m   \u001b[1;32mreturn\u001b[0m \u001b[0mops\u001b[0m\u001b[1;33m.\u001b[0m\u001b[0mEagerTensor\u001b[0m\u001b[1;33m(\u001b[0m\u001b[0mvalue\u001b[0m\u001b[1;33m,\u001b[0m \u001b[0mctx\u001b[0m\u001b[1;33m.\u001b[0m\u001b[0mdevice_name\u001b[0m\u001b[1;33m,\u001b[0m \u001b[0mdtype\u001b[0m\u001b[1;33m)\u001b[0m\u001b[1;33m\u001b[0m\u001b[1;33m\u001b[0m\u001b[0m\n\u001b[0m\u001b[0;32m     99\u001b[0m \u001b[1;33m\u001b[0m\u001b[0m\n\u001b[0;32m    100\u001b[0m \u001b[1;33m\u001b[0m\u001b[0m\n",
      "\u001b[1;31mValueError\u001b[0m: Failed to convert a NumPy array to a Tensor (Unsupported object type numpy.ndarray)."
     ]
    }
   ],
   "source": [
    "data_dir_parent = \"C:/Users/temmuz/Desktop/2022-2/proje/stanford/dataset\"\n",
    "client_train_dataset = collections.OrderedDict()\n",
    "client_test_dataset = collections.OrderedDict()\n",
    "ratio = 0.2\n",
    "for client_num in range(1):\n",
    "    print(client_num)\n",
    "    data_dir = data_dir_parent+\"/\"+str(client_num)\n",
    "    image_names = []\n",
    "    labels = []\n",
    "    for i in range(11):\n",
    "        data_dir2 = data_dir+\"/\"+str(i)+\"/*.jpg\"\n",
    "        image_names.extend(glob.glob(data_dir2))\n",
    "        labels.extend(np.ones(len(glob.glob(data_dir2)),dtype=int)*i)\n",
    "    data = pd.DataFrame(index=range(len(labels)),columns=['image', 'label'])\n",
    "    for i, (name, label) in enumerate(zip(image_names,labels)):\n",
    "        img = mpimg.imread(name)\n",
    "        data.loc[i].image = img\n",
    "        data.loc[i].label = label\n",
    "    train, test = train_test_split(data, test_size=ratio, random_state=42)\n",
    "    data_train = collections.OrderedDict((('label', train.label), ('image', train.image)))\n",
    "    data_test = collections.OrderedDict((('label', test.label), ('image', test.image)))\n",
    "    client_train_dataset[client_num] = data_train\n",
    "    client_test_dataset[client_num] = data_test\n",
    "train_dataset = tff.simulation.FromTensorSlicesClientData(client_train_dataset)\n",
    "test_dataset = tff.simulation.FromTensorSlicesClientData(client_test_dataset)"
   ]
  },
  {
   "cell_type": "code",
   "execution_count": 26,
   "id": "multiple-dodge",
   "metadata": {},
   "outputs": [
    {
     "data": {
      "text/plain": [
       "9031    [[[245, 247, 244], [245, 247, 244], [245, 247,...\n",
       "8100    [[[67, 59, 46], [66, 58, 45], [64, 56, 43], [6...\n",
       "8400    [[[138, 139, 167], [139, 141, 166], [141, 143,...\n",
       "828     [[[120, 118, 97], [121, 119, 98], [121, 119, 9...\n",
       "6964    [[[115, 99, 73], [115, 99, 73], [115, 99, 73],...\n",
       "                              ...                        \n",
       "5734    [[[154, 161, 153], [154, 161, 153], [149, 155,...\n",
       "5191    [[[127, 128, 132], [128, 129, 133], [129, 128,...\n",
       "5390    [[[168, 165, 156], [169, 166, 157], [169, 166,...\n",
       "860     [[[155, 153, 140], [153, 151, 138], [150, 148,...\n",
       "7270    [[[165, 165, 165], [164, 164, 164], [163, 163,...\n",
       "Name: image, Length: 8261, dtype: object"
      ]
     },
     "execution_count": 26,
     "metadata": {},
     "output_type": "execute_result"
    }
   ],
   "source": [
    "train.image"
   ]
  },
  {
   "cell_type": "code",
   "execution_count": 29,
   "id": "biblical-network",
   "metadata": {},
   "outputs": [
    {
     "data": {
      "text/html": [
       "<div>\n",
       "<style scoped>\n",
       "    .dataframe tbody tr th:only-of-type {\n",
       "        vertical-align: middle;\n",
       "    }\n",
       "\n",
       "    .dataframe tbody tr th {\n",
       "        vertical-align: top;\n",
       "    }\n",
       "\n",
       "    .dataframe thead th {\n",
       "        text-align: right;\n",
       "    }\n",
       "</style>\n",
       "<table border=\"1\" class=\"dataframe\">\n",
       "  <thead>\n",
       "    <tr style=\"text-align: right;\">\n",
       "      <th></th>\n",
       "      <th>image</th>\n",
       "      <th>label</th>\n",
       "    </tr>\n",
       "  </thead>\n",
       "  <tbody>\n",
       "    <tr>\n",
       "      <th>0</th>\n",
       "      <td>[[[245, 247, 244], [245, 247, 244], [245, 247,...</td>\n",
       "      <td>5</td>\n",
       "    </tr>\n",
       "    <tr>\n",
       "      <th>1</th>\n",
       "      <td>[[[67, 59, 46], [66, 58, 45], [64, 56, 43], [6...</td>\n",
       "      <td>5</td>\n",
       "    </tr>\n",
       "    <tr>\n",
       "      <th>2</th>\n",
       "      <td>[[[138, 139, 167], [139, 141, 166], [141, 143,...</td>\n",
       "      <td>5</td>\n",
       "    </tr>\n",
       "    <tr>\n",
       "      <th>3</th>\n",
       "      <td>[[[120, 118, 97], [121, 119, 98], [121, 119, 9...</td>\n",
       "      <td>0</td>\n",
       "    </tr>\n",
       "    <tr>\n",
       "      <th>4</th>\n",
       "      <td>[[[115, 99, 73], [115, 99, 73], [115, 99, 73],...</td>\n",
       "      <td>5</td>\n",
       "    </tr>\n",
       "    <tr>\n",
       "      <th>...</th>\n",
       "      <td>...</td>\n",
       "      <td>...</td>\n",
       "    </tr>\n",
       "    <tr>\n",
       "      <th>8256</th>\n",
       "      <td>[[[154, 161, 153], [154, 161, 153], [149, 155,...</td>\n",
       "      <td>1</td>\n",
       "    </tr>\n",
       "    <tr>\n",
       "      <th>8257</th>\n",
       "      <td>[[[127, 128, 132], [128, 129, 133], [129, 128,...</td>\n",
       "      <td>0</td>\n",
       "    </tr>\n",
       "    <tr>\n",
       "      <th>8258</th>\n",
       "      <td>[[[168, 165, 156], [169, 166, 157], [169, 166,...</td>\n",
       "      <td>0</td>\n",
       "    </tr>\n",
       "    <tr>\n",
       "      <th>8259</th>\n",
       "      <td>[[[155, 153, 140], [153, 151, 138], [150, 148,...</td>\n",
       "      <td>0</td>\n",
       "    </tr>\n",
       "    <tr>\n",
       "      <th>8260</th>\n",
       "      <td>[[[165, 165, 165], [164, 164, 164], [163, 163,...</td>\n",
       "      <td>5</td>\n",
       "    </tr>\n",
       "  </tbody>\n",
       "</table>\n",
       "<p>8261 rows × 2 columns</p>\n",
       "</div>"
      ],
      "text/plain": [
       "                                                  image label\n",
       "0     [[[245, 247, 244], [245, 247, 244], [245, 247,...     5\n",
       "1     [[[67, 59, 46], [66, 58, 45], [64, 56, 43], [6...     5\n",
       "2     [[[138, 139, 167], [139, 141, 166], [141, 143,...     5\n",
       "3     [[[120, 118, 97], [121, 119, 98], [121, 119, 9...     0\n",
       "4     [[[115, 99, 73], [115, 99, 73], [115, 99, 73],...     5\n",
       "...                                                 ...   ...\n",
       "8256  [[[154, 161, 153], [154, 161, 153], [149, 155,...     1\n",
       "8257  [[[127, 128, 132], [128, 129, 133], [129, 128,...     0\n",
       "8258  [[[168, 165, 156], [169, 166, 157], [169, 166,...     0\n",
       "8259  [[[155, 153, 140], [153, 151, 138], [150, 148,...     0\n",
       "8260  [[[165, 165, 165], [164, 164, 164], [163, 163,...     5\n",
       "\n",
       "[8261 rows x 2 columns]"
      ]
     },
     "execution_count": 29,
     "metadata": {},
     "output_type": "execute_result"
    }
   ],
   "source": [
    "train.reset_index(drop=True)"
   ]
  },
  {
   "cell_type": "code",
   "execution_count": 37,
   "id": "black-surge",
   "metadata": {},
   "outputs": [
    {
     "data": {
      "text/plain": [
       "array([[[0., 0., 0., 0.],\n",
       "        [0., 0., 0., 0.],\n",
       "        [0., 0., 0., 0.]],\n",
       "\n",
       "       [[0., 0., 0., 0.],\n",
       "        [0., 0., 0., 0.],\n",
       "        [0., 0., 0., 0.]]])"
      ]
     },
     "execution_count": 37,
     "metadata": {},
     "output_type": "execute_result"
    }
   ],
   "source": [
    "a = np.zeros((2,3,4))\n",
    "a"
   ]
  },
  {
   "cell_type": "code",
   "execution_count": 40,
   "id": "indirect-weather",
   "metadata": {},
   "outputs": [
    {
     "data": {
      "text/plain": [
       "array([[0., 0., 0., 0.],\n",
       "       [0., 0., 0., 0.],\n",
       "       [0., 0., 0., 0.]])"
      ]
     },
     "execution_count": 40,
     "metadata": {},
     "output_type": "execute_result"
    }
   ],
   "source": [
    "a[0]"
   ]
  },
  {
   "cell_type": "code",
   "execution_count": 70,
   "id": "behind-history",
   "metadata": {},
   "outputs": [
    {
     "name": "stdout",
     "output_type": "stream",
     "text": [
      "0\n"
     ]
    },
    {
     "ename": "TypeError",
     "evalue": "unsupported operand type(s) for /: 'Image' and 'float'",
     "output_type": "error",
     "traceback": [
      "\u001b[1;31m---------------------------------------------------------------------------\u001b[0m",
      "\u001b[1;31mTypeError\u001b[0m                                 Traceback (most recent call last)",
      "\u001b[1;32m<ipython-input-70-e349d85823f0>\u001b[0m in \u001b[0;36m<module>\u001b[1;34m\u001b[0m\n\u001b[0;32m     16\u001b[0m         \u001b[0mimg\u001b[0m \u001b[1;33m=\u001b[0m \u001b[0mPIL\u001b[0m\u001b[1;33m.\u001b[0m\u001b[0mImage\u001b[0m\u001b[1;33m.\u001b[0m\u001b[0mopen\u001b[0m\u001b[1;33m(\u001b[0m\u001b[0mname\u001b[0m\u001b[1;33m)\u001b[0m\u001b[1;33m\u001b[0m\u001b[1;33m\u001b[0m\u001b[0m\n\u001b[0;32m     17\u001b[0m         \u001b[0mimg2\u001b[0m \u001b[1;33m=\u001b[0m \u001b[0mimg\u001b[0m\u001b[1;33m.\u001b[0m\u001b[0mresize\u001b[0m\u001b[1;33m(\u001b[0m\u001b[1;33m(\u001b[0m\u001b[1;36m64\u001b[0m\u001b[1;33m,\u001b[0m\u001b[1;36m64\u001b[0m\u001b[1;33m)\u001b[0m\u001b[1;33m)\u001b[0m\u001b[1;33m\u001b[0m\u001b[1;33m\u001b[0m\u001b[0m\n\u001b[1;32m---> 18\u001b[1;33m         \u001b[0mimg3\u001b[0m \u001b[1;33m=\u001b[0m \u001b[0mimg2\u001b[0m\u001b[1;33m/\u001b[0m\u001b[1;36m255.0\u001b[0m\u001b[1;33m\u001b[0m\u001b[1;33m\u001b[0m\u001b[0m\n\u001b[0m\u001b[0;32m     19\u001b[0m         \u001b[0mdata\u001b[0m\u001b[1;33m[\u001b[0m\u001b[0mi\u001b[0m\u001b[1;33m]\u001b[0m \u001b[1;33m=\u001b[0m \u001b[0mimg3\u001b[0m\u001b[1;33m\u001b[0m\u001b[1;33m\u001b[0m\u001b[0m\n\u001b[0;32m     20\u001b[0m     \u001b[0mdata_train\u001b[0m \u001b[1;33m=\u001b[0m \u001b[0mcollections\u001b[0m\u001b[1;33m.\u001b[0m\u001b[0mOrderedDict\u001b[0m\u001b[1;33m(\u001b[0m\u001b[1;33m(\u001b[0m\u001b[1;33m(\u001b[0m\u001b[1;34m'label'\u001b[0m\u001b[1;33m,\u001b[0m \u001b[0mlabels\u001b[0m\u001b[1;33m)\u001b[0m\u001b[1;33m,\u001b[0m \u001b[1;33m(\u001b[0m\u001b[1;34m'image'\u001b[0m\u001b[1;33m,\u001b[0m \u001b[0mdata\u001b[0m\u001b[1;33m)\u001b[0m\u001b[1;33m)\u001b[0m\u001b[1;33m)\u001b[0m\u001b[1;33m\u001b[0m\u001b[1;33m\u001b[0m\u001b[0m\n",
      "\u001b[1;31mTypeError\u001b[0m: unsupported operand type(s) for /: 'Image' and 'float'"
     ]
    }
   ],
   "source": [
    "data_dir_parent = \"C:/Users/temmuz/Desktop/2022-2/proje/stanford/dataset\"\n",
    "client_train_dataset = collections.OrderedDict()\n",
    "client_test_dataset = collections.OrderedDict()\n",
    "ratio = 0.2\n",
    "for client_num in range(6):\n",
    "    print(client_num)\n",
    "    data_dir = data_dir_parent+\"/\"+str(client_num)\n",
    "    image_names = []\n",
    "    labels = []\n",
    "    for i in range(11):\n",
    "        data_dir2 = data_dir+\"/\"+str(i)+\"/*.jpg\"\n",
    "        image_names.extend(glob.glob(data_dir2))\n",
    "        labels.extend(np.ones(len(glob.glob(data_dir2)),dtype=int)*i)\n",
    "    data = np.zeros((len(image_names),64,64,3))\n",
    "    for i, name in enumerate(image_names):\n",
    "        img = PIL.Image.open(name)\n",
    "        img2 = img.resize((64,64))\n",
    "        img3 = img2/255.0\n",
    "        data[i] = img3\n",
    "    data_train = collections.OrderedDict((('label', labels), ('image', data)))\n",
    "    client_train_dataset[client_num] = data_train\n",
    "train_dataset = tff.simulation.FromTensorSlicesClientData(client_train_dataset)"
   ]
  },
  {
   "cell_type": "code",
   "execution_count": 47,
   "id": "characteristic-auction",
   "metadata": {},
   "outputs": [
    {
     "data": {
      "text/plain": [
       "[0]"
      ]
     },
     "execution_count": 47,
     "metadata": {},
     "output_type": "execute_result"
    }
   ],
   "source": [
    "train_dataset.client_ids"
   ]
  },
  {
   "cell_type": "code",
   "execution_count": 48,
   "id": "racial-kingston",
   "metadata": {},
   "outputs": [],
   "source": [
    "ts = train_dataset.create_tf_dataset_from_all_clients()"
   ]
  },
  {
   "cell_type": "code",
   "execution_count": 49,
   "id": "engaging-chambers",
   "metadata": {},
   "outputs": [
    {
     "data": {
      "text/plain": [
       "<FlatMapDataset shapes: OrderedDict([(label, ()), (image, (112, 112, 3))]), types: OrderedDict([(label, tf.int32), (image, tf.float64)])>"
      ]
     },
     "execution_count": 49,
     "metadata": {},
     "output_type": "execute_result"
    }
   ],
   "source": [
    "ts"
   ]
  },
  {
   "cell_type": "code",
   "execution_count": 59,
   "id": "certified-salad",
   "metadata": {},
   "outputs": [],
   "source": [
    "def preprocess(dataset):\n",
    "\n",
    "    def batch_format_fn(element):\n",
    "        return collections.OrderedDict(\n",
    "                x=element['image'],\n",
    "                y=tf.reshape(element['label'], [-1, 1]))\n",
    "\n",
    "    return dataset.shuffle(10000, seed=42).batch(32).map(batch_format_fn)"
   ]
  },
  {
   "cell_type": "code",
   "execution_count": 60,
   "id": "portable-writing",
   "metadata": {},
   "outputs": [],
   "source": [
    "ts2 = preprocess(ts)"
   ]
  },
  {
   "cell_type": "code",
   "execution_count": 61,
   "id": "aquatic-policy",
   "metadata": {},
   "outputs": [],
   "source": [
    "bs = next(iter(ts2))"
   ]
  },
  {
   "cell_type": "code",
   "execution_count": 62,
   "id": "emotional-province",
   "metadata": {},
   "outputs": [
    {
     "data": {
      "text/plain": [
       "OrderedDict([('x',\n",
       "              <tf.Tensor: shape=(32, 112, 112, 3), dtype=float64, numpy=\n",
       "              array([[[[0.59607843, 0.56862745, 0.49803922],\n",
       "                       [0.59215686, 0.56470588, 0.49411765],\n",
       "                       [0.59607843, 0.56862745, 0.49803922],\n",
       "                       ...,\n",
       "                       [0.5372549 , 0.62352941, 0.61176471],\n",
       "                       [0.55294118, 0.63921569, 0.62745098],\n",
       "                       [0.52941176, 0.62745098, 0.61176471]],\n",
       "              \n",
       "                      [[0.58823529, 0.55294118, 0.48627451],\n",
       "                       [0.58823529, 0.55294118, 0.48627451],\n",
       "                       [0.58823529, 0.55294118, 0.48627451],\n",
       "                       ...,\n",
       "                       [0.51372549, 0.6       , 0.58823529],\n",
       "                       [0.52941176, 0.61568627, 0.60392157],\n",
       "                       [0.52156863, 0.61960784, 0.60392157]],\n",
       "              \n",
       "                      [[0.60784314, 0.56078431, 0.49803922],\n",
       "                       [0.60392157, 0.55686275, 0.49411765],\n",
       "                       [0.60392157, 0.55686275, 0.49411765],\n",
       "                       ...,\n",
       "                       [0.45098039, 0.54117647, 0.51764706],\n",
       "                       [0.45098039, 0.54117647, 0.51764706],\n",
       "                       [0.45882353, 0.55686275, 0.53333333]],\n",
       "              \n",
       "                      ...,\n",
       "              \n",
       "                      [[0.76078431, 0.77254902, 0.74509804],\n",
       "                       [0.75686275, 0.76862745, 0.74117647],\n",
       "                       [0.75294118, 0.76470588, 0.7372549 ],\n",
       "                       ...,\n",
       "                       [0.65882353, 0.66666667, 0.58431373],\n",
       "                       [0.65882353, 0.66666667, 0.58431373],\n",
       "                       [0.65882353, 0.66666667, 0.58431373]],\n",
       "              \n",
       "                      [[0.76078431, 0.77254902, 0.74509804],\n",
       "                       [0.75686275, 0.76862745, 0.74117647],\n",
       "                       [0.75294118, 0.76470588, 0.7372549 ],\n",
       "                       ...,\n",
       "                       [0.6627451 , 0.67058824, 0.58823529],\n",
       "                       [0.6627451 , 0.67058824, 0.58823529],\n",
       "                       [0.6627451 , 0.67058824, 0.58823529]],\n",
       "              \n",
       "                      [[0.75686275, 0.76862745, 0.74117647],\n",
       "                       [0.75686275, 0.76862745, 0.74117647],\n",
       "                       [0.75294118, 0.76470588, 0.7372549 ],\n",
       "                       ...,\n",
       "                       [0.6627451 , 0.67058824, 0.58823529],\n",
       "                       [0.6627451 , 0.67058824, 0.58823529],\n",
       "                       [0.6627451 , 0.67058824, 0.58823529]]],\n",
       "              \n",
       "              \n",
       "                     [[[0.64705882, 0.6       , 0.51372549],\n",
       "                       [0.64705882, 0.6       , 0.51372549],\n",
       "                       [0.64313725, 0.59607843, 0.50980392],\n",
       "                       ...,\n",
       "                       [0.50980392, 0.49803922, 0.4627451 ],\n",
       "                       [0.50980392, 0.49803922, 0.4627451 ],\n",
       "                       [0.50588235, 0.49411765, 0.45882353]],\n",
       "              \n",
       "                      [[0.65098039, 0.60392157, 0.51764706],\n",
       "                       [0.64705882, 0.6       , 0.51372549],\n",
       "                       [0.64705882, 0.6       , 0.51372549],\n",
       "                       ...,\n",
       "                       [0.48235294, 0.47058824, 0.43529412],\n",
       "                       [0.48235294, 0.47058824, 0.43529412],\n",
       "                       [0.47843137, 0.46666667, 0.43137255]],\n",
       "              \n",
       "                      [[0.65490196, 0.60784314, 0.52156863],\n",
       "                       [0.65490196, 0.60784314, 0.52156863],\n",
       "                       [0.65098039, 0.60392157, 0.51764706],\n",
       "                       ...,\n",
       "                       [0.49019608, 0.47843137, 0.44313725],\n",
       "                       [0.49019608, 0.47843137, 0.44313725],\n",
       "                       [0.49019608, 0.47843137, 0.44313725]],\n",
       "              \n",
       "                      ...,\n",
       "              \n",
       "                      [[0.71372549, 0.70588235, 0.65882353],\n",
       "                       [0.69019608, 0.68235294, 0.63529412],\n",
       "                       [0.71372549, 0.70588235, 0.65882353],\n",
       "                       ...,\n",
       "                       [0.82745098, 0.82352941, 0.75294118],\n",
       "                       [0.83137255, 0.84705882, 0.78039216],\n",
       "                       [0.74901961, 0.78431373, 0.70980392]],\n",
       "              \n",
       "                      [[0.74117647, 0.7254902 , 0.68235294],\n",
       "                       [0.70980392, 0.69411765, 0.65098039],\n",
       "                       [0.74117647, 0.7254902 , 0.68235294],\n",
       "                       ...,\n",
       "                       [0.8       , 0.79607843, 0.7254902 ],\n",
       "                       [0.82745098, 0.84313725, 0.77647059],\n",
       "                       [0.76078431, 0.78823529, 0.71764706]],\n",
       "              \n",
       "                      [[0.64313725, 0.62745098, 0.58431373],\n",
       "                       [0.60392157, 0.58823529, 0.54509804],\n",
       "                       [0.64313725, 0.62745098, 0.58431373],\n",
       "                       ...,\n",
       "                       [0.65098039, 0.64705882, 0.57647059],\n",
       "                       [0.77647059, 0.78823529, 0.72156863],\n",
       "                       [0.78039216, 0.80784314, 0.7372549 ]]],\n",
       "              \n",
       "              \n",
       "                     [[[0.72156863, 0.69411765, 0.62352941],\n",
       "                       [0.72156863, 0.69411765, 0.62352941],\n",
       "                       [0.71764706, 0.69019608, 0.61960784],\n",
       "                       ...,\n",
       "                       [0.71372549, 0.70588235, 0.65882353],\n",
       "                       [0.74509804, 0.7372549 , 0.69019608],\n",
       "                       [0.75294118, 0.74509804, 0.69803922]],\n",
       "              \n",
       "                      [[0.72156863, 0.69411765, 0.62352941],\n",
       "                       [0.72156863, 0.69411765, 0.62352941],\n",
       "                       [0.71764706, 0.69019608, 0.61960784],\n",
       "                       ...,\n",
       "                       [0.71372549, 0.70588235, 0.65882353],\n",
       "                       [0.7372549 , 0.72941176, 0.68235294],\n",
       "                       [0.7372549 , 0.72941176, 0.68235294]],\n",
       "              \n",
       "                      [[0.7254902 , 0.69803922, 0.62745098],\n",
       "                       [0.7254902 , 0.69803922, 0.62745098],\n",
       "                       [0.72156863, 0.69411765, 0.62352941],\n",
       "                       ...,\n",
       "                       [0.71764706, 0.70980392, 0.6627451 ],\n",
       "                       [0.72941176, 0.72156863, 0.6745098 ],\n",
       "                       [0.7254902 , 0.71764706, 0.67058824]],\n",
       "              \n",
       "                      ...,\n",
       "              \n",
       "                      [[0.76470588, 0.7372549 , 0.6627451 ],\n",
       "                       [0.76470588, 0.7372549 , 0.6627451 ],\n",
       "                       [0.76470588, 0.7372549 , 0.6627451 ],\n",
       "                       ...,\n",
       "                       [0.61568627, 0.58823529, 0.51372549],\n",
       "                       [0.61960784, 0.59215686, 0.52156863],\n",
       "                       [0.62352941, 0.59607843, 0.5254902 ]],\n",
       "              \n",
       "                      [[0.76470588, 0.7372549 , 0.6627451 ],\n",
       "                       [0.76470588, 0.7372549 , 0.6627451 ],\n",
       "                       [0.76470588, 0.7372549 , 0.6627451 ],\n",
       "                       ...,\n",
       "                       [0.61960784, 0.59215686, 0.51764706],\n",
       "                       [0.62745098, 0.6       , 0.52941176],\n",
       "                       [0.62745098, 0.6       , 0.52941176]],\n",
       "              \n",
       "                      [[0.76470588, 0.7372549 , 0.6627451 ],\n",
       "                       [0.76470588, 0.7372549 , 0.6627451 ],\n",
       "                       [0.76470588, 0.7372549 , 0.6627451 ],\n",
       "                       ...,\n",
       "                       [0.61960784, 0.59215686, 0.51764706],\n",
       "                       [0.62745098, 0.6       , 0.52941176],\n",
       "                       [0.63137255, 0.60392157, 0.53333333]]],\n",
       "              \n",
       "              \n",
       "                     ...,\n",
       "              \n",
       "              \n",
       "                     [[[0.4       , 0.4627451 , 0.35686275],\n",
       "                       [0.40392157, 0.46666667, 0.36078431],\n",
       "                       [0.41176471, 0.4745098 , 0.37254902],\n",
       "                       ...,\n",
       "                       [0.39215686, 0.39607843, 0.36470588],\n",
       "                       [0.39215686, 0.39607843, 0.36470588],\n",
       "                       [0.39215686, 0.39607843, 0.36470588]],\n",
       "              \n",
       "                      [[0.41568627, 0.47843137, 0.37254902],\n",
       "                       [0.41568627, 0.47843137, 0.37254902],\n",
       "                       [0.42352941, 0.48627451, 0.38431373],\n",
       "                       ...,\n",
       "                       [0.39607843, 0.4       , 0.36862745],\n",
       "                       [0.39607843, 0.4       , 0.36862745],\n",
       "                       [0.39607843, 0.4       , 0.36862745]],\n",
       "              \n",
       "                      [[0.43137255, 0.49411765, 0.38823529],\n",
       "                       [0.43529412, 0.49803922, 0.39215686],\n",
       "                       [0.43921569, 0.50196078, 0.4       ],\n",
       "                       ...,\n",
       "                       [0.4       , 0.40392157, 0.38039216],\n",
       "                       [0.4       , 0.40392157, 0.38039216],\n",
       "                       [0.4       , 0.40392157, 0.38039216]],\n",
       "              \n",
       "                      ...,\n",
       "              \n",
       "                      [[0.74509804, 0.54901961, 0.35686275],\n",
       "                       [0.69411765, 0.5254902 , 0.35686275],\n",
       "                       [0.56078431, 0.44705882, 0.32156863],\n",
       "                       ...,\n",
       "                       [0.74117647, 0.78431373, 0.76862745],\n",
       "                       [0.74509804, 0.78039216, 0.77647059],\n",
       "                       [0.74117647, 0.78039216, 0.77647059]],\n",
       "              \n",
       "                      [[0.76078431, 0.55686275, 0.36078431],\n",
       "                       [0.68235294, 0.50980392, 0.33333333],\n",
       "                       [0.41568627, 0.29803922, 0.16470588],\n",
       "                       ...,\n",
       "                       [0.7372549 , 0.78823529, 0.76078431],\n",
       "                       [0.74117647, 0.78431373, 0.76862745],\n",
       "                       [0.7372549 , 0.78431373, 0.76862745]],\n",
       "              \n",
       "                      [[0.76470588, 0.56470588, 0.35686275],\n",
       "                       [0.6745098 , 0.50196078, 0.31764706],\n",
       "                       [0.24705882, 0.12941176, 0.        ],\n",
       "                       ...,\n",
       "                       [0.7372549 , 0.78823529, 0.76078431],\n",
       "                       [0.7372549 , 0.78431373, 0.76862745],\n",
       "                       [0.7372549 , 0.78431373, 0.76862745]]],\n",
       "              \n",
       "              \n",
       "                     [[[0.58823529, 0.64313725, 0.68627451],\n",
       "                       [0.58431373, 0.63921569, 0.68235294],\n",
       "                       [0.58039216, 0.63529412, 0.68627451],\n",
       "                       ...,\n",
       "                       [0.67058824, 0.47058824, 0.22352941],\n",
       "                       [0.65882353, 0.4627451 , 0.22352941],\n",
       "                       [0.65098039, 0.45490196, 0.21568627]],\n",
       "              \n",
       "                      [[0.61176471, 0.66666667, 0.70980392],\n",
       "                       [0.60784314, 0.6627451 , 0.70588235],\n",
       "                       [0.60392157, 0.65882353, 0.70980392],\n",
       "                       ...,\n",
       "                       [0.65490196, 0.45882353, 0.21960784],\n",
       "                       [0.64705882, 0.45098039, 0.21176471],\n",
       "                       [0.63529412, 0.43921569, 0.2       ]],\n",
       "              \n",
       "                      [[0.61176471, 0.6745098 , 0.7254902 ],\n",
       "                       [0.61568627, 0.67843137, 0.72941176],\n",
       "                       [0.61568627, 0.67843137, 0.7372549 ],\n",
       "                       ...,\n",
       "                       [0.63529412, 0.43921569, 0.20784314],\n",
       "                       [0.62745098, 0.43137255, 0.2       ],\n",
       "                       [0.61176471, 0.41960784, 0.18823529]],\n",
       "              \n",
       "                      ...,\n",
       "              \n",
       "                      [[0.09803922, 0.15686275, 0.3254902 ],\n",
       "                       [0.10980392, 0.16470588, 0.31764706],\n",
       "                       [0.12941176, 0.16862745, 0.30980392],\n",
       "                       ...,\n",
       "                       [0.60392157, 0.6       , 0.6627451 ],\n",
       "                       [0.52941176, 0.5254902 , 0.58823529],\n",
       "                       [0.57647059, 0.57254902, 0.63529412]],\n",
       "              \n",
       "                      [[0.1372549 , 0.19215686, 0.34509804],\n",
       "                       [0.14901961, 0.2       , 0.3372549 ],\n",
       "                       [0.17647059, 0.21176471, 0.34117647],\n",
       "                       ...,\n",
       "                       [0.57647059, 0.57647059, 0.67058824],\n",
       "                       [0.56078431, 0.56078431, 0.6627451 ],\n",
       "                       [0.56862745, 0.56862745, 0.67058824]],\n",
       "              \n",
       "                      [[0.17254902, 0.22745098, 0.37254902],\n",
       "                       [0.17647059, 0.22745098, 0.36078431],\n",
       "                       [0.19607843, 0.21960784, 0.34509804],\n",
       "                       ...,\n",
       "                       [0.54117647, 0.54117647, 0.65098039],\n",
       "                       [0.6       , 0.59607843, 0.72156863],\n",
       "                       [0.55294118, 0.54901961, 0.6745098 ]]],\n",
       "              \n",
       "              \n",
       "                     [[[0.78823529, 0.75686275, 0.6745098 ],\n",
       "                       [0.79215686, 0.76470588, 0.69019608],\n",
       "                       [0.8       , 0.77647059, 0.71372549],\n",
       "                       ...,\n",
       "                       [0.72156863, 0.69411765, 0.63137255],\n",
       "                       [0.72156863, 0.69411765, 0.63137255],\n",
       "                       [0.72156863, 0.69411765, 0.63137255]],\n",
       "              \n",
       "                      [[0.80784314, 0.76470588, 0.67843137],\n",
       "                       [0.80392157, 0.77254902, 0.69019608],\n",
       "                       [0.8       , 0.78039216, 0.70588235],\n",
       "                       ...,\n",
       "                       [0.7254902 , 0.69803922, 0.63529412],\n",
       "                       [0.72156863, 0.69411765, 0.63137255],\n",
       "                       [0.72156863, 0.69411765, 0.63137255]],\n",
       "              \n",
       "                      [[0.81568627, 0.76862745, 0.66666667],\n",
       "                       [0.81176471, 0.77254902, 0.6745098 ],\n",
       "                       [0.79607843, 0.76862745, 0.69411765],\n",
       "                       ...,\n",
       "                       [0.7254902 , 0.69803922, 0.63529412],\n",
       "                       [0.7254902 , 0.69803922, 0.63529412],\n",
       "                       [0.72156863, 0.69411765, 0.63137255]],\n",
       "              \n",
       "                      ...,\n",
       "              \n",
       "                      [[0.76078431, 0.70980392, 0.57254902],\n",
       "                       [0.76078431, 0.71372549, 0.56470588],\n",
       "                       [0.76078431, 0.70980392, 0.57254902],\n",
       "                       ...,\n",
       "                       [0.79607843, 0.79607843, 0.74901961],\n",
       "                       [0.79607843, 0.79607843, 0.74901961],\n",
       "                       [0.79607843, 0.79607843, 0.74901961]],\n",
       "              \n",
       "                      [[0.76078431, 0.70980392, 0.57647059],\n",
       "                       [0.76078431, 0.70980392, 0.57254902],\n",
       "                       [0.76078431, 0.70980392, 0.57647059],\n",
       "                       ...,\n",
       "                       [0.79607843, 0.79607843, 0.74901961],\n",
       "                       [0.79607843, 0.79607843, 0.74901961],\n",
       "                       [0.79607843, 0.79607843, 0.74901961]],\n",
       "              \n",
       "                      [[0.76470588, 0.71372549, 0.58039216],\n",
       "                       [0.76470588, 0.71372549, 0.58039216],\n",
       "                       [0.76470588, 0.71372549, 0.58039216],\n",
       "                       ...,\n",
       "                       [0.79607843, 0.79607843, 0.74901961],\n",
       "                       [0.79607843, 0.79607843, 0.74901961],\n",
       "                       [0.79607843, 0.79607843, 0.74901961]]]])>),\n",
       "             ('y',\n",
       "              <tf.Tensor: shape=(32, 1), dtype=int32, numpy=\n",
       "              array([[0],\n",
       "                     [0],\n",
       "                     [5],\n",
       "                     [0],\n",
       "                     [5],\n",
       "                     [5],\n",
       "                     [1],\n",
       "                     [5],\n",
       "                     [5],\n",
       "                     [0],\n",
       "                     [0],\n",
       "                     [0],\n",
       "                     [5],\n",
       "                     [5],\n",
       "                     [1],\n",
       "                     [5],\n",
       "                     [0],\n",
       "                     [0],\n",
       "                     [0],\n",
       "                     [5],\n",
       "                     [0],\n",
       "                     [5],\n",
       "                     [5],\n",
       "                     [0],\n",
       "                     [1],\n",
       "                     [0],\n",
       "                     [0],\n",
       "                     [5],\n",
       "                     [0],\n",
       "                     [0],\n",
       "                     [0],\n",
       "                     [0]])>)])"
      ]
     },
     "execution_count": 62,
     "metadata": {},
     "output_type": "execute_result"
    }
   ],
   "source": [
    "bs"
   ]
  },
  {
   "cell_type": "code",
   "execution_count": 64,
   "id": "worldwide-talent",
   "metadata": {},
   "outputs": [
    {
     "data": {
      "text/plain": [
       "array([[[0.72156863, 0.7372549 , 0.74901961],\n",
       "        [0.71764706, 0.73333333, 0.74509804],\n",
       "        [0.70588235, 0.72156863, 0.7254902 ],\n",
       "        ...,\n",
       "        [0.58431373, 0.59215686, 0.57254902],\n",
       "        [0.58431373, 0.59215686, 0.57254902],\n",
       "        [0.58431373, 0.59215686, 0.57254902]],\n",
       "\n",
       "       [[0.76862745, 0.78431373, 0.78823529],\n",
       "        [0.75294118, 0.76862745, 0.77254902],\n",
       "        [0.72941176, 0.74509804, 0.74901961],\n",
       "        ...,\n",
       "        [0.58431373, 0.59215686, 0.57254902],\n",
       "        [0.58431373, 0.59215686, 0.57254902],\n",
       "        [0.58431373, 0.59215686, 0.57254902]],\n",
       "\n",
       "       [[0.76078431, 0.76862745, 0.76470588],\n",
       "        [0.76078431, 0.76862745, 0.76470588],\n",
       "        [0.75686275, 0.76470588, 0.76078431],\n",
       "        ...,\n",
       "        [0.58823529, 0.59607843, 0.57647059],\n",
       "        [0.58823529, 0.59607843, 0.57647059],\n",
       "        [0.58823529, 0.59607843, 0.57647059]],\n",
       "\n",
       "       ...,\n",
       "\n",
       "       [[0.6745098 , 0.6627451 , 0.58823529],\n",
       "        [0.6745098 , 0.6627451 , 0.58823529],\n",
       "        [0.6745098 , 0.6627451 , 0.58823529],\n",
       "        ...,\n",
       "        [0.38431373, 0.34901961, 0.23529412],\n",
       "        [0.40392157, 0.37647059, 0.26666667],\n",
       "        [0.42745098, 0.4       , 0.29019608]],\n",
       "\n",
       "       [[0.6745098 , 0.6627451 , 0.59607843],\n",
       "        [0.6745098 , 0.6627451 , 0.59607843],\n",
       "        [0.6745098 , 0.6627451 , 0.58823529],\n",
       "        ...,\n",
       "        [0.36078431, 0.3254902 , 0.21176471],\n",
       "        [0.36078431, 0.33333333, 0.22352941],\n",
       "        [0.37254902, 0.34509804, 0.23529412]],\n",
       "\n",
       "       [[0.6745098 , 0.6627451 , 0.59607843],\n",
       "        [0.6745098 , 0.6627451 , 0.59607843],\n",
       "        [0.6745098 , 0.6627451 , 0.58823529],\n",
       "        ...,\n",
       "        [0.34509804, 0.30980392, 0.18823529],\n",
       "        [0.32941176, 0.30196078, 0.19215686],\n",
       "        [0.33333333, 0.30588235, 0.19607843]]])"
      ]
     },
     "execution_count": 64,
     "metadata": {},
     "output_type": "execute_result"
    }
   ],
   "source": [
    "img2"
   ]
  },
  {
   "cell_type": "code",
   "execution_count": 65,
   "id": "three-shift",
   "metadata": {},
   "outputs": [],
   "source": [
    "dsdir = \"C:/Users/temmuz/Desktop/2022-2/proje/stanford/dataset\"\n",
    "class_count = np.zeros((6,11))\n",
    "for i in range(6):\n",
    "    dsdiri = dsdir+\"/\"+str(i)\n",
    "    for j in range(11):\n",
    "        dsdirij = dsdiri+\"/\"+str(j)+'/*.jpg'\n",
    "        class_count[i,j] += len(glob.glob(dsdirij))"
   ]
  },
  {
   "cell_type": "code",
   "execution_count": 66,
   "id": "engaging-xerox",
   "metadata": {},
   "outputs": [
    {
     "data": {
      "text/plain": [
       "array([[5728.,  641.,    0.,    0.,    0., 3409.,  127.,  124.,    0.,\n",
       "           0.,  298.],\n",
       "       [2686.,  606., 6371.,    0.,    0., 4725.,    0.,    0.,    0.,\n",
       "         837.,  489.],\n",
       "       [1406.,  258.,    0.,    0.,  607., 1098.,    0.,    0.,    0.,\n",
       "          25.,  310.],\n",
       "       [5231., 1127.,    0., 2033.,    0., 3705.,    0.,    0.,    0.,\n",
       "         401.,  771.],\n",
       "       [8684.,  998.,    0.,  316.,    0., 6582.,    0.,  202.,    0.,\n",
       "         514.,  297.],\n",
       "       [5415.,  220.,    0.,    0.,  317., 2859.,  113.,   92.,  874.,\n",
       "           0.,    0.]])"
      ]
     },
     "execution_count": 66,
     "metadata": {},
     "output_type": "execute_result"
    }
   ],
   "source": [
    "class_count"
   ]
  },
  {
   "cell_type": "code",
   "execution_count": 71,
   "id": "minimal-broadcast",
   "metadata": {},
   "outputs": [
    {
     "data": {
      "text/plain": [
       "'C:/Users/temmuz/Desktop/2022-2/proje/stanford/dataset/0/0\\\\0.jpg'"
      ]
     },
     "execution_count": 71,
     "metadata": {},
     "output_type": "execute_result"
    }
   ],
   "source": [
    "name"
   ]
  },
  {
   "cell_type": "code",
   "execution_count": 72,
   "id": "baking-times",
   "metadata": {},
   "outputs": [],
   "source": [
    "image = tf.keras.preprocessing.image.load_img(name)"
   ]
  },
  {
   "cell_type": "code",
   "execution_count": 73,
   "id": "normal-execution",
   "metadata": {},
   "outputs": [
    {
     "data": {
      "image/png": "[encoded data removed]",
      "text/plain": [
       "<PIL.JpegImagePlugin.JpegImageFile image mode=RGB size=112x112 at 0x26F7FEE34C8>"
      ]
     },
     "execution_count": 73,
     "metadata": {},
     "output_type": "execute_result"
    }
   ],
   "source": [
    "image"
   ]
  },
  {
   "cell_type": "code",
   "execution_count": 75,
   "id": "micro-crossing",
   "metadata": {},
   "outputs": [
    {
     "data": {
      "text/plain": [
       "(112, 112, 3)"
      ]
     },
     "execution_count": 75,
     "metadata": {},
     "output_type": "execute_result"
    }
   ],
   "source": [
    "np.shape(tf.keras.preprocessing.image.img_to_array(image))"
   ]
  },
  {
   "cell_type": "code",
   "execution_count": 78,
   "id": "aboriginal-minimum",
   "metadata": {},
   "outputs": [],
   "source": [
    "im1=PIL.Image.open(name)\n",
    "im2 = im1.resize((64,64))"
   ]
  },
  {
   "cell_type": "code",
   "execution_count": 79,
   "id": "informational-location",
   "metadata": {},
   "outputs": [
    {
     "data": {
      "image/png": "[encoded data removed]",
      "text/plain": [
       "<PIL.Image.Image image mode=RGB size=64x64 at 0x26F7FEE9C08>"
      ]
     },
     "execution_count": 79,
     "metadata": {},
     "output_type": "execute_result"
    }
   ],
   "source": [
    "im2"
   ]
  },
  {
   "cell_type": "code",
   "execution_count": 82,
   "id": "formal-nitrogen",
   "metadata": {},
   "outputs": [
    {
     "data": {
      "text/plain": [
       "array([[[0.62352943, 0.4862745 , 0.24313726],\n",
       "        [0.6117647 , 0.47843137, 0.25490198],\n",
       "        [0.5921569 , 0.46666667, 0.2784314 ],\n",
       "        ...,\n",
       "        [0.19607843, 0.1882353 , 0.13725491],\n",
       "        [0.06666667, 0.0627451 , 0.08235294],\n",
       "        [0.05098039, 0.06666667, 0.12156863]],\n",
       "\n",
       "       [[0.63529414, 0.5019608 , 0.27450982],\n",
       "        [0.62352943, 0.49411765, 0.28235295],\n",
       "        [0.6117647 , 0.48235294, 0.29411766],\n",
       "        ...,\n",
       "        [0.27450982, 0.2509804 , 0.19607843],\n",
       "        [0.18431373, 0.1764706 , 0.18431373],\n",
       "        [0.28627452, 0.2901961 , 0.3372549 ]],\n",
       "\n",
       "       [[0.63529414, 0.5137255 , 0.3019608 ],\n",
       "        [0.627451  , 0.5058824 , 0.29411766],\n",
       "        [0.62352943, 0.49019608, 0.30588236],\n",
       "        ...,\n",
       "        [0.3882353 , 0.34117648, 0.27450982],\n",
       "        [0.31764707, 0.29411766, 0.2784314 ],\n",
       "        [0.3137255 , 0.29803923, 0.32156864]],\n",
       "\n",
       "       ...,\n",
       "\n",
       "       [[0.40392157, 0.27450982, 0.17254902],\n",
       "        [0.37254903, 0.25882354, 0.15294118],\n",
       "        [0.36862746, 0.2627451 , 0.15686275],\n",
       "        ...,\n",
       "        [0.7764706 , 0.58431375, 0.3254902 ],\n",
       "        [0.79607844, 0.58431375, 0.28627452],\n",
       "        [0.7921569 , 0.57254905, 0.2509804 ]],\n",
       "\n",
       "       [[0.35686275, 0.23921569, 0.14901961],\n",
       "        [0.40784314, 0.29803923, 0.20392157],\n",
       "        [0.48235294, 0.38431373, 0.28627452],\n",
       "        ...,\n",
       "        [0.35686275, 0.24705882, 0.11372549],\n",
       "        [0.50980395, 0.3764706 , 0.21568628],\n",
       "        [0.6509804 , 0.5137255 , 0.3372549 ]],\n",
       "\n",
       "       [[0.36078432, 0.2509804 , 0.16470589],\n",
       "        [0.36078432, 0.25490198, 0.16862746],\n",
       "        [0.36078432, 0.27058825, 0.1764706 ],\n",
       "        ...,\n",
       "        [0.05882353, 0.04313726, 0.02745098],\n",
       "        [0.06666667, 0.03921569, 0.02745098],\n",
       "        [0.16862746, 0.14117648, 0.1254902 ]]], dtype=float32)"
      ]
     },
     "execution_count": 82,
     "metadata": {},
     "output_type": "execute_result"
    }
   ],
   "source": [
    "tf.keras.preprocessing.image.img_to_array(im2)/255"
   ]
  },
  {
   "cell_type": "code",
   "execution_count": 83,
   "id": "complex-currency",
   "metadata": {},
   "outputs": [
    {
     "name": "stdout",
     "output_type": "stream",
     "text": [
      "0\n",
      "1\n",
      "2\n",
      "3\n",
      "4\n",
      "5\n"
     ]
    }
   ],
   "source": [
    "data_dir_parent = \"C:/Users/temmuz/Desktop/2022-2/proje/stanford/dataset\"\n",
    "client_train_dataset = collections.OrderedDict()\n",
    "client_test_dataset = collections.OrderedDict()\n",
    "ratio = 0.2\n",
    "for client_num in range(6):\n",
    "    print(client_num)\n",
    "    data_dir = data_dir_parent+\"/\"+str(client_num)\n",
    "    image_names = []\n",
    "    labels = []\n",
    "    for i in range(11):\n",
    "        data_dir2 = data_dir+\"/\"+str(i)+\"/*.jpg\"\n",
    "        image_names.extend(glob.glob(data_dir2))\n",
    "        labels.extend(np.ones(len(glob.glob(data_dir2)),dtype=int)*i)\n",
    "    data = np.zeros((len(image_names),64,64,3))\n",
    "    for i, name in enumerate(image_names):\n",
    "        img1=PIL.Image.open(name)\n",
    "        img2 = img1.resize((64,64))\n",
    "        data[i] = tf.keras.preprocessing.image.img_to_array(img2)/255\n",
    "    data_train = collections.OrderedDict((('label', labels), ('image', data)))\n",
    "    client_train_dataset[client_num] = data_train\n",
    "train_dataset = tff.simulation.FromTensorSlicesClientData(client_train_dataset)"
   ]
  },
  {
   "cell_type": "code",
   "execution_count": 85,
   "id": "recorded-exercise",
   "metadata": {},
   "outputs": [
    {
     "data": {
      "text/plain": [
       "[0, 1, 2, 3, 4, 5]"
      ]
     },
     "execution_count": 85,
     "metadata": {},
     "output_type": "execute_result"
    }
   ],
   "source": [
    "train_dataset.client_ids"
   ]
  },
  {
   "cell_type": "code",
   "execution_count": 86,
   "id": "chinese-college",
   "metadata": {},
   "outputs": [
    {
     "data": {
      "text/plain": [
       "array([29150.,  3850.,  6371.,  2349.,   924., 22378.,   240.,   418.,\n",
       "         874.,  1777.,  2165.])"
      ]
     },
     "execution_count": 86,
     "metadata": {},
     "output_type": "execute_result"
    }
   ],
   "source": [
    "sum(class_count)"
   ]
  },
  {
   "cell_type": "code",
   "execution_count": 96,
   "id": "covered-intellectual",
   "metadata": {},
   "outputs": [
    {
     "data": {
      "text/plain": [
       "b'ali'"
      ]
     },
     "execution_count": 96,
     "metadata": {},
     "output_type": "execute_result"
    }
   ],
   "source": [
    "a = [\"ali\",\"veli\",\"musa\"]\n",
    "tf.random.shuffle(a).numpy()[0]"
   ]
  },
  {
   "cell_type": "code",
   "execution_count": 12,
   "id": "assisted-airline",
   "metadata": {},
   "outputs": [
    {
     "name": "stdout",
     "output_type": "stream",
     "text": [
      "0\n",
      "1\n",
      "2\n",
      "3\n",
      "4\n",
      "5\n"
     ]
    }
   ],
   "source": [
    "data_dir_parent = \"C:/Users/temmuz/Desktop/2022-2/proje/stanford/dataset\"\n",
    "client_train_dataset = collections.OrderedDict()\n",
    "client_test_dataset = collections.OrderedDict()\n",
    "ratio = 0.2\n",
    "ratio0and5 = 0.2\n",
    "for client_num in range(6):\n",
    "    print(client_num)\n",
    "    data_dir = data_dir_parent+\"/\"+str(client_num)\n",
    "    image_names = []\n",
    "    labels = []\n",
    "    for i in range(11):\n",
    "        data_dir2 = data_dir+\"/\"+str(i)+\"/*.jpg\"\n",
    "        if len(glob.glob(data_dir2))>0:\n",
    "            if i == 0 or i == 5:\n",
    "                temp_names=glob.glob(data_dir2)\n",
    "                full_len = len(temp_names)\n",
    "                used_len = int(ratio0and5*full_len)\n",
    "                random.shuffle(temp_names)\n",
    "                used_names = temp_names[:used_len]\n",
    "                image_names.extend(used_names)\n",
    "                labels.extend(np.ones(len(used_names),dtype=int)*i)\n",
    "            else:\n",
    "                image_names.extend(glob.glob(data_dir2))\n",
    "                labels.extend(np.ones(len(glob.glob(data_dir2)),dtype=int)*i)\n",
    "    data = np.zeros((len(image_names),112,112,3))\n",
    "    for i, name in enumerate(image_names):\n",
    "        img1 = PIL.Image.open(name)\n",
    "        data[i] = tf.keras.preprocessing.image.img_to_array(img1)/255\n",
    "    data_train = collections.OrderedDict((('label', labels), ('image', data)))\n",
    "    client_train_dataset[client_num] = data_train\n",
    "train_dataset = tff.simulation.FromTensorSlicesClientData(client_train_dataset)"
   ]
  },
  {
   "cell_type": "code",
   "execution_count": 13,
   "id": "million-roller",
   "metadata": {},
   "outputs": [],
   "source": [
    "def preprocess(dataset):\n",
    "\n",
    "    def batch_format_fn(element):\n",
    "        return collections.OrderedDict(\n",
    "                x=element['image'],\n",
    "                y=tf.reshape(element['label'], [-1, 1]))\n",
    "\n",
    "    return dataset.shuffle(10000, seed=42).batch(128).map(batch_format_fn)"
   ]
  },
  {
   "cell_type": "code",
   "execution_count": 14,
   "id": "necessary-poland",
   "metadata": {},
   "outputs": [],
   "source": [
    "ts = [preprocess(train_dataset.create_tf_dataset_for_client(x)) for x in train_dataset.client_ids]"
   ]
  },
  {
   "cell_type": "code",
   "execution_count": 15,
   "id": "critical-invention",
   "metadata": {},
   "outputs": [
    {
     "name": "stdout",
     "output_type": "stream",
     "text": [
      "0\n",
      "1\n",
      "2\n",
      "3\n",
      "4\n",
      "5\n"
     ]
    }
   ],
   "source": [
    "class_count2 = np.zeros((6,11))\n",
    "for client_num in range(6):\n",
    "    print(client_num)\n",
    "    ds = ts[client_num]\n",
    "    for batch in ds:\n",
    "        for y in batch['y']:\n",
    "            class_count2[client_num,y] += 1"
   ]
  },
  {
   "cell_type": "code",
   "execution_count": 16,
   "id": "alert-integer",
   "metadata": {},
   "outputs": [
    {
     "data": {
      "text/plain": [
       "array([[1145.,  641.,    0.,    0.,    0.,  681.,  127.,  124.,    0.,\n",
       "           0.,  298.],\n",
       "       [ 537.,  606., 6371.,    0.,    0.,  945.,    0.,    0.,    0.,\n",
       "         837.,  489.],\n",
       "       [ 281.,  258.,    0.,    0.,  607.,  219.,    0.,    0.,    0.,\n",
       "          25.,  310.],\n",
       "       [1046., 1127.,    0., 2033.,    0.,  741.,    0.,    0.,    0.,\n",
       "         401.,  771.],\n",
       "       [1736.,  998.,    0.,  316.,    0., 1316.,    0.,  202.,    0.,\n",
       "         514.,  297.],\n",
       "       [1083.,  220.,    0.,    0.,  317.,  571.,  113.,   92.,  874.,\n",
       "           0.,    0.]])"
      ]
     },
     "execution_count": 16,
     "metadata": {},
     "output_type": "execute_result"
    }
   ],
   "source": [
    "class_count2"
   ]
  },
  {
   "cell_type": "code",
   "execution_count": 19,
   "id": "isolated-coach",
   "metadata": {},
   "outputs": [],
   "source": [
    "dsdir = \"C:/Users/temmuz/Desktop/2022-2/proje/stanford/dataset\"\n",
    "class_count = np.zeros((6,11))\n",
    "for i in range(6):\n",
    "    dsdiri = dsdir+\"/\"+str(i)\n",
    "    for j in range(11):\n",
    "        dsdirij = dsdiri+\"/\"+str(j)+'/*.jpg'\n",
    "        class_count[i,j] += len(glob.glob(dsdirij))"
   ]
  },
  {
   "cell_type": "code",
   "execution_count": 20,
   "id": "moderate-briefing",
   "metadata": {},
   "outputs": [
    {
     "data": {
      "text/plain": [
       "array([[5728.,  641.,    0.,    0.,    0., 3409.,  127.,  124.,    0.,\n",
       "           0.,  298.],\n",
       "       [2686.,  606., 6371.,    0.,    0., 4725.,    0.,    0.,    0.,\n",
       "         837.,  489.],\n",
       "       [1406.,  258.,    0.,    0.,  607., 1098.,    0.,    0.,    0.,\n",
       "          25.,  310.],\n",
       "       [5231., 1127.,    0., 2033.,    0., 3705.,    0.,    0.,    0.,\n",
       "         401.,  771.],\n",
       "       [8684.,  998.,    0.,  316.,    0., 6582.,    0.,  202.,    0.,\n",
       "         514.,  297.],\n",
       "       [5415.,  220.,    0.,    0.,  317., 2859.,  113.,   92.,  874.,\n",
       "           0.,    0.]])"
      ]
     },
     "execution_count": 20,
     "metadata": {},
     "output_type": "execute_result"
    }
   ],
   "source": [
    "class_count"
   ]
  },
  {
   "cell_type": "code",
   "execution_count": 21,
   "id": "prompt-manor",
   "metadata": {},
   "outputs": [
    {
     "data": {
      "text/plain": [
       "array([5828., 3850., 6371., 2349.,  924., 4473.,  240.,  418.,  874.,\n",
       "       1777., 2165.])"
      ]
     },
     "execution_count": 21,
     "metadata": {},
     "output_type": "execute_result"
    }
   ],
   "source": [
    "sum(class_count2)"
   ]
  },
  {
   "cell_type": "code",
   "execution_count": 23,
   "id": "scheduled-beads",
   "metadata": {},
   "outputs": [],
   "source": [
    "train, test = train_test_split(image_names, test_size=0.2, random_state=42)"
   ]
  },
  {
   "cell_type": "code",
   "execution_count": 26,
   "id": "meaning-accounting",
   "metadata": {},
   "outputs": [
    {
     "data": {
      "text/plain": [
       "2616"
      ]
     },
     "execution_count": 26,
     "metadata": {},
     "output_type": "execute_result"
    }
   ],
   "source": [
    "len(train)"
   ]
  },
  {
   "cell_type": "code",
   "execution_count": 28,
   "id": "recognized-radar",
   "metadata": {},
   "outputs": [
    {
     "data": {
      "text/plain": [
       "2616"
      ]
     },
     "execution_count": 28,
     "metadata": {},
     "output_type": "execute_result"
    }
   ],
   "source": [
    "len(test)*4"
   ]
  },
  {
   "cell_type": "code",
   "execution_count": 37,
   "id": "nearby-seminar",
   "metadata": {},
   "outputs": [],
   "source": [
    "dr = \"C:/Users/temmuz/Desktop/2022-2/proje/stanford/dataset/0/0/*.jpg\"\n",
    "image_names = glob.glob(dr)"
   ]
  },
  {
   "cell_type": "code",
   "execution_count": 34,
   "id": "irish-palestine",
   "metadata": {},
   "outputs": [],
   "source": [
    "train, test = train_test_split(image_names, test_size=0.2, random_state=42)"
   ]
  },
  {
   "cell_type": "code",
   "execution_count": 2,
   "id": "derived-utilization",
   "metadata": {},
   "outputs": [
    {
     "name": "stdout",
     "output_type": "stream",
     "text": [
      "0\n",
      "1\n",
      "2\n",
      "3\n",
      "4\n",
      "5\n"
     ]
    }
   ],
   "source": [
    "data_dir_parent = \"C:/Users/temmuz/Desktop/2022-2/proje/stanford/dataset\"\n",
    "client_train_dataset = collections.OrderedDict()\n",
    "client_test_dataset = collections.OrderedDict()\n",
    "ratio = 0.2\n",
    "ratio0and5 = 0.2\n",
    "for client_num in range(6):\n",
    "    print(client_num)\n",
    "    data_dir = data_dir_parent+\"/\"+str(client_num)\n",
    "    train_image_names = []\n",
    "    test_image_names = []\n",
    "    labels_train = []\n",
    "    labels_test = []\n",
    "    for i in range(11):\n",
    "        data_dir2 = data_dir+\"/\"+str(i)+\"/*.jpg\"\n",
    "        if len(glob.glob(data_dir2))>0:\n",
    "            temp_names=glob.glob(data_dir2)\n",
    "            train, test = train_test_split(temp_names, test_size=0.2, random_state=42)\n",
    "            test_image_names.extend(test)\n",
    "            labels_test.extend(np.ones(len(test),dtype=int)*i)\n",
    "            if i == 0 or i == 5:\n",
    "                full_len = len(train)\n",
    "                used_len = int(ratio0and5*full_len)\n",
    "                used_names = train[:used_len]\n",
    "                train_image_names.extend(used_names)\n",
    "                labels_train.extend(np.ones(len(used_names),dtype=int)*i)\n",
    "            else:\n",
    "                train_image_names.extend(train)\n",
    "                labels_train.extend(np.ones(len(train),dtype=int)*i)\n",
    "    data_train = np.zeros((len(train_image_names),112,112,3))\n",
    "    data_test = np.zeros((len(test_image_names),112,112,3))\n",
    "    for i, name in enumerate(train_image_names):\n",
    "        img1 = PIL.Image.open(name)\n",
    "        data_train[i] = tf.keras.preprocessing.image.img_to_array(img1)/255\n",
    "    for i, name in enumerate(test_image_names):\n",
    "        img1 = PIL.Image.open(name)\n",
    "        data_test[i] = tf.keras.preprocessing.image.img_to_array(img1)/255\n",
    "    data_train = collections.OrderedDict((('label', labels_train), ('image', data_train)))\n",
    "    data_test = collections.OrderedDict((('label', labels_test), ('image', data_test)))\n",
    "    client_train_dataset[client_num] = data_train\n",
    "    client_test_dataset[client_num] = data_test\n",
    "train_dataset = tff.simulation.FromTensorSlicesClientData(client_train_dataset)\n",
    "test_dataset = tff.simulation.FromTensorSlicesClientData(client_test_dataset)"
   ]
  },
  {
   "cell_type": "code",
   "execution_count": 4,
   "id": "adjusted-guide",
   "metadata": {},
   "outputs": [],
   "source": [
    "def preprocess(dataset):\n",
    "\n",
    "    def batch_format_fn(element):\n",
    "        return collections.OrderedDict(\n",
    "                x=element['image'],\n",
    "                y=tf.reshape(element['label'], [-1, 1]))\n",
    "\n",
    "    return dataset.shuffle(10000, seed=42).batch(128).map(batch_format_fn)"
   ]
  },
  {
   "cell_type": "code",
   "execution_count": 5,
   "id": "anticipated-anger",
   "metadata": {},
   "outputs": [],
   "source": [
    "ts = [preprocess(train_dataset.create_tf_dataset_for_client(x)) for x in train_dataset.client_ids]\n",
    "tes = [preprocess(test_dataset.create_tf_dataset_for_client(x)) for x in test_dataset.client_ids]"
   ]
  },
  {
   "cell_type": "code",
   "execution_count": 12,
   "id": "invalid-negative",
   "metadata": {},
   "outputs": [
    {
     "name": "stdout",
     "output_type": "stream",
     "text": [
      "0\n",
      "1\n",
      "2\n",
      "3\n",
      "4\n",
      "5\n"
     ]
    }
   ],
   "source": [
    "class_count_train = np.zeros((6,11))\n",
    "for client_num in range(6):\n",
    "    print(client_num)\n",
    "    ds = ts[client_num]\n",
    "    for batch in ds:\n",
    "        for y in batch['y']:\n",
    "            class_count_train[client_num,y] += 1"
   ]
  },
  {
   "cell_type": "code",
   "execution_count": 17,
   "id": "oriented-browser",
   "metadata": {},
   "outputs": [
    {
     "data": {
      "text/plain": [
       "array([[ 916.,  512.,    0.,    0.,    0.,  545.,  101.,   99.,    0.,\n",
       "           0.,  238.],\n",
       "       [ 429.,  484., 5096.,    0.,    0.,  756.,    0.,    0.,    0.,\n",
       "         669.,  391.],\n",
       "       [ 224.,  206.,    0.,    0.,  485.,  175.,    0.,    0.,    0.,\n",
       "          20.,  248.],\n",
       "       [ 836.,  901.,    0., 1626.,    0.,  592.,    0.,    0.,    0.,\n",
       "         320.,  616.],\n",
       "       [1389.,  798.,    0.,  252.,    0., 1053.,    0.,  161.,    0.,\n",
       "         411.,  237.],\n",
       "       [ 866.,  176.,    0.,    0.,  253.,  457.,   90.,   73.,  699.,\n",
       "           0.,    0.]])"
      ]
     },
     "execution_count": 17,
     "metadata": {},
     "output_type": "execute_result"
    }
   ],
   "source": [
    "class_count_train"
   ]
  },
  {
   "cell_type": "code",
   "execution_count": 14,
   "id": "refined-reminder",
   "metadata": {},
   "outputs": [
    {
     "data": {
      "text/plain": [
       "23400.0"
      ]
     },
     "execution_count": 14,
     "metadata": {},
     "output_type": "execute_result"
    }
   ],
   "source": [
    "sum(sum(class_count_train))"
   ]
  },
  {
   "cell_type": "code",
   "execution_count": 9,
   "id": "human-blackberry",
   "metadata": {},
   "outputs": [
    {
     "name": "stdout",
     "output_type": "stream",
     "text": [
      "0\n",
      "1\n",
      "2\n",
      "3\n",
      "4\n",
      "5\n"
     ]
    }
   ],
   "source": [
    "class_count_test = np.zeros((6,11))\n",
    "for client_num in range(6):\n",
    "    print(client_num)\n",
    "    ds = tes[client_num]\n",
    "    for batch in ds:\n",
    "        for y in batch['y']:\n",
    "            class_count_test[client_num,y] += 1"
   ]
  },
  {
   "cell_type": "code",
   "execution_count": 11,
   "id": "thermal-liberty",
   "metadata": {},
   "outputs": [
    {
     "data": {
      "text/plain": [
       "array([5833.,  773., 1275.,  471.,  186., 4477.,   49.,   85.,  175.,\n",
       "        357.,  435.])"
      ]
     },
     "execution_count": 11,
     "metadata": {},
     "output_type": "execute_result"
    }
   ],
   "source": [
    "sum(class_count_test)"
   ]
  },
  {
   "cell_type": "code",
   "execution_count": 15,
   "id": "through-fiction",
   "metadata": {},
   "outputs": [],
   "source": [
    "a = [\"ali\",\"veli\"]"
   ]
  },
  {
   "cell_type": "code",
   "execution_count": 16,
   "id": "orange-blink",
   "metadata": {},
   "outputs": [
    {
     "data": {
      "text/plain": [
       "['ali', 'veli', 'ali', 'veli']"
      ]
     },
     "execution_count": 16,
     "metadata": {},
     "output_type": "execute_result"
    }
   ],
   "source": [
    "a*2"
   ]
  },
  {
   "cell_type": "code",
   "execution_count": 2,
   "id": "numerous-variance",
   "metadata": {},
   "outputs": [],
   "source": [
    "a = [\"ali\",\"veli\",\"musa\",\"mustafa\"]\n",
    "b = [0,2]"
   ]
  },
  {
   "cell_type": "code",
   "execution_count": 3,
   "id": "stuffed-setting",
   "metadata": {},
   "outputs": [],
   "source": [
    "c =  [a[x] for x in b]"
   ]
  },
  {
   "cell_type": "code",
   "execution_count": 5,
   "id": "shaped-consideration",
   "metadata": {},
   "outputs": [
    {
     "data": {
      "text/plain": [
       "['ali', 'musa']"
      ]
     },
     "execution_count": 5,
     "metadata": {},
     "output_type": "execute_result"
    }
   ],
   "source": [
    "c"
   ]
  },
  {
   "cell_type": "code",
   "execution_count": null,
   "id": "chief-january",
   "metadata": {},
   "outputs": [],
   "source": []
  }
 ],
 "metadata": {
  "kernelspec": {
   "display_name": "tffkernel",
   "language": "python",
   "name": "tffkernel"
  },
  "language_info": {
   "codemirror_mode": {
    "name": "ipython",
    "version": 3
   },
   "file_extension": ".py",
   "mimetype": "text/x-python",
   "name": "python",
   "nbconvert_exporter": "python",
   "pygments_lexer": "ipython3",
   "version": "3.7.4"
  }
 },
 "nbformat": 4,
 "nbformat_minor": 5
}
