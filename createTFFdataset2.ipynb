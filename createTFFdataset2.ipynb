{
 "cells": [
  {
   "cell_type": "code",
   "execution_count": 1,
   "id": "limiting-growing",
   "metadata": {},
   "outputs": [],
   "source": [
    "import numpy as np\n",
    "import os\n",
    "import glob\n",
    "import PIL\n",
    "import PIL.Image\n",
    "import tensorflow as tf\n",
    "import tensorflow_datasets as tfds\n",
    "import collections\n",
    "from sklearn.model_selection import train_test_split\n",
    "import matplotlib.image as mpimg\n",
    "import matplotlib.pyplot as plt\n",
    "import pandas as pd\n",
    "import tensorflow_federated as tff\n",
    "import random"
   ]
  },
  {
   "cell_type": "code",
   "execution_count": 2,
   "id": "mounted-teens",
   "metadata": {},
   "outputs": [
    {
     "name": "stdout",
     "output_type": "stream",
     "text": [
      "0\n",
      "1\n",
      "2\n",
      "3\n",
      "4\n",
      "5\n"
     ]
    }
   ],
   "source": [
    "data_dir_parent = \"C:/Users/temmuz/Desktop/2022-2/proje/stanford/dataset\"\n",
    "client_train_dataset = collections.OrderedDict()\n",
    "client_test_dataset = collections.OrderedDict()\n",
    "ratio = 0.2\n",
    "ratio0and5 = 0.2\n",
    "for client_num in range(6):\n",
    "    print(client_num)\n",
    "    data_dir = data_dir_parent+\"/\"+str(client_num)\n",
    "    train_image_names = []\n",
    "    test_image_names = []\n",
    "    labels_train = []\n",
    "    labels_test = []\n",
    "    for i in range(11):\n",
    "        data_dir2 = data_dir+\"/\"+str(i)+\"/*.jpg\"\n",
    "        if len(glob.glob(data_dir2))>0:\n",
    "            temp_names=glob.glob(data_dir2)\n",
    "            train, test = train_test_split(temp_names, test_size=0.2, random_state=42)\n",
    "            test_image_names.extend(test)\n",
    "            labels_test.extend(np.ones(len(test),dtype=int)*i)\n",
    "            if i == 0 or i == 5:\n",
    "                full_len = len(train)\n",
    "                used_len = int(ratio0and5*full_len)\n",
    "                used_names = train[:used_len]\n",
    "                train_image_names.extend(used_names)\n",
    "                labels_train.extend(np.ones(len(used_names),dtype=int)*i)\n",
    "            else:\n",
    "                train_image_names.extend(train)\n",
    "                labels_train.extend(np.ones(len(train),dtype=int)*i)\n",
    "    data_train = np.zeros((len(train_image_names),112,112,3))\n",
    "    data_test = np.zeros((len(test_image_names),112,112,3))\n",
    "    for i, name in enumerate(train_image_names):\n",
    "        img1 = PIL.Image.open(name)\n",
    "        data_train[i] = tf.keras.preprocessing.image.img_to_array(img1)/255\n",
    "    for i, name in enumerate(test_image_names):\n",
    "        img1 = PIL.Image.open(name)\n",
    "        data_test[i] = tf.keras.preprocessing.image.img_to_array(img1)/255\n",
    "    data_train = collections.OrderedDict((('label', labels_train), ('image', data_train)))\n",
    "    data_test = collections.OrderedDict((('label', labels_test), ('image', data_test)))\n",
    "    client_train_dataset[client_num] = data_train\n",
    "    client_test_dataset[client_num] = data_test\n",
    "train_dataset = tff.simulation.FromTensorSlicesClientData(client_train_dataset)\n",
    "test_dataset = tff.simulation.FromTensorSlicesClientData(client_test_dataset)"
   ]
  },
  {
   "cell_type": "code",
   "execution_count": 3,
   "id": "fleet-survival",
   "metadata": {},
   "outputs": [],
   "source": [
    "def preprocess(dataset):\n",
    "\n",
    "    def batch_format_fn(element):\n",
    "        return collections.OrderedDict(\n",
    "                x=element['image'],\n",
    "                y=tf.reshape(element['label'], [-1, 1]))\n",
    "\n",
    "    return dataset.shuffle(10000, seed=42).batch(128).map(batch_format_fn)"
   ]
  },
  {
   "cell_type": "code",
   "execution_count": 4,
   "id": "recent-festival",
   "metadata": {},
   "outputs": [],
   "source": [
    "train_set = [preprocess(train_dataset.create_tf_dataset_for_client(x)) for x in train_dataset.client_ids]\n",
    "test_set = [preprocess(test_dataset.create_tf_dataset_for_client(x)) for x in test_dataset.client_ids]"
   ]
  },
  {
   "cell_type": "code",
   "execution_count": null,
   "id": "confused-offense",
   "metadata": {},
   "outputs": [],
   "source": []
  }
 ],
 "metadata": {
  "kernelspec": {
   "display_name": "tffkernel",
   "language": "python",
   "name": "tffkernel"
  },
  "language_info": {
   "codemirror_mode": {
    "name": "ipython",
    "version": 3
   },
   "file_extension": ".py",
   "mimetype": "text/x-python",
   "name": "python",
   "nbconvert_exporter": "python",
   "pygments_lexer": "ipython3",
   "version": "3.7.4"
  }
 },
 "nbformat": 4,
 "nbformat_minor": 5
}
