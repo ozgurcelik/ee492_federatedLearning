{
 "cells": [
  {
   "cell_type": "code",
   "execution_count": 1,
   "id": "offshore-progress",
   "metadata": {},
   "outputs": [],
   "source": [
    "import numpy as np\n",
    "import os\n",
    "import glob\n",
    "import PIL\n",
    "import PIL.Image\n",
    "import tensorflow as tf\n",
    "import tensorflow_datasets as tfds\n",
    "import collections\n",
    "from sklearn.model_selection import train_test_split\n",
    "import matplotlib.image as mpimg\n",
    "import matplotlib.pyplot as plt\n",
    "import pandas as pd\n",
    "import tensorflow_federated as tff\n",
    "import random"
   ]
  },
  {
   "cell_type": "code",
   "execution_count": 6,
   "id": "efficient-folks",
   "metadata": {},
   "outputs": [
    {
     "name": "stdout",
     "output_type": "stream",
     "text": [
      "0\n",
      "1\n",
      "2\n"
     ]
    }
   ],
   "source": [
    "data_dir_parent = \"C:/Users/temmuz/Desktop/2022-2/proje/stanford/dataset\"\n",
    "client_train_dataset = collections.OrderedDict()\n",
    "client_test_dataset = collections.OrderedDict()\n",
    "ratio = 0.2\n",
    "ratio0and5 = 0.2\n",
    "areas = [[0,2,5],[1,3],[4]]\n",
    "for client_num in range(3):\n",
    "    print(client_num)\n",
    "    train_image_names = []\n",
    "    test_image_names = []\n",
    "    labels_train = []\n",
    "    labels_test = []\n",
    "    for area in areas[client_num]:\n",
    "        data_dir = data_dir_parent+\"/\"+str(area)\n",
    "        for i in range(11):\n",
    "            data_dir2 = data_dir+\"/\"+str(i)+\"/*.jpg\"\n",
    "            if len(glob.glob(data_dir2))>0:\n",
    "                temp_names=glob.glob(data_dir2)\n",
    "                train, test = train_test_split(temp_names, test_size=0.2, random_state=42)\n",
    "                test_image_names.extend(test)\n",
    "                labels_test.extend(np.ones(len(test),dtype=int)*i)\n",
    "                train_image_names.extend(train)\n",
    "                labels_train.extend(np.ones(len(train),dtype=int)*i)\n",
    "    data_train = np.zeros((len(train_image_names),32,32,3))\n",
    "    data_test = np.zeros((len(test_image_names),32,32,3))\n",
    "    for i, name in enumerate(train_image_names):\n",
    "        img1 = PIL.Image.open(name)\n",
    "        img1 = img1.resize((32,32))\n",
    "        data_train[i] = tf.keras.preprocessing.image.img_to_array(img1)/255\n",
    "    for i, name in enumerate(test_image_names):\n",
    "        img1 = PIL.Image.open(name)\n",
    "        img1 = img1.resize((32,32))\n",
    "        data_test[i] = tf.keras.preprocessing.image.img_to_array(img1)/255\n",
    "    data_train = collections.OrderedDict((('label', labels_train), ('image', data_train)))\n",
    "    data_test = collections.OrderedDict((('label', labels_test), ('image', data_test)))\n",
    "    client_train_dataset[client_num] = data_train\n",
    "    client_test_dataset[client_num] = data_test\n",
    "train_dataset = tff.simulation.FromTensorSlicesClientData(client_train_dataset)\n",
    "test_dataset = tff.simulation.FromTensorSlicesClientData(client_test_dataset)"
   ]
  },
  {
   "cell_type": "code",
   "execution_count": 7,
   "id": "invalid-irish",
   "metadata": {},
   "outputs": [],
   "source": [
    "def preprocess(dataset):\n",
    "\n",
    "    def batch_format_fn(element):\n",
    "        return collections.OrderedDict(\n",
    "                x=element['image'],\n",
    "                y=tf.reshape(element['label'], [-1, 1]))\n",
    "\n",
    "    return dataset.shuffle(10000, seed=42).batch(128).map(batch_format_fn)"
   ]
  },
  {
   "cell_type": "code",
   "execution_count": 8,
   "id": "inside-helicopter",
   "metadata": {},
   "outputs": [],
   "source": [
    "ts = [preprocess(train_dataset.create_tf_dataset_for_client(x)) for x in train_dataset.client_ids]\n",
    "tes = [preprocess(test_dataset.create_tf_dataset_for_client(x)) for x in test_dataset.client_ids]"
   ]
  },
  {
   "cell_type": "code",
   "execution_count": 9,
   "id": "limited-nickname",
   "metadata": {},
   "outputs": [
    {
     "name": "stdout",
     "output_type": "stream",
     "text": [
      "0\n",
      "1\n",
      "2\n"
     ]
    }
   ],
   "source": [
    "class_count_set = np.zeros((3,11))\n",
    "for client_num in range(3):\n",
    "    print(client_num)\n",
    "    ds = ts[client_num]\n",
    "    for batch in ds:\n",
    "        for y in batch['y']:\n",
    "            class_count_set[client_num,y] += 1\n",
    "    ds = tes[client_num]\n",
    "    for batch in ds:\n",
    "        for y in batch['y']:\n",
    "            class_count_set[client_num,y] += 1"
   ]
  },
  {
   "cell_type": "code",
   "execution_count": 13,
   "id": "owned-integration",
   "metadata": {},
   "outputs": [],
   "source": [
    "class_count_set = class_count_set.astype(int)"
   ]
  },
  {
   "cell_type": "code",
   "execution_count": 14,
   "id": "younger-peoples",
   "metadata": {},
   "outputs": [
    {
     "data": {
      "text/plain": [
       "array([[12549,  1119,     0,     0,   924,  7366,   240,   216,   874,\n",
       "           25,   608],\n",
       "       [ 7917,  1733,  6371,  2033,     0,  8430,     0,     0,     0,\n",
       "         1238,  1260],\n",
       "       [ 8684,   998,     0,   316,     0,  6582,     0,   202,     0,\n",
       "          514,   297]])"
      ]
     },
     "execution_count": 14,
     "metadata": {},
     "output_type": "execute_result"
    }
   ],
   "source": [
    "class_count_set"
   ]
  },
  {
   "cell_type": "code",
   "execution_count": null,
   "id": "advance-ottawa",
   "metadata": {},
   "outputs": [],
   "source": []
  }
 ],
 "metadata": {
  "kernelspec": {
   "display_name": "tffkernel",
   "language": "python",
   "name": "tffkernel"
  },
  "language_info": {
   "codemirror_mode": {
    "name": "ipython",
    "version": 3
   },
   "file_extension": ".py",
   "mimetype": "text/x-python",
   "name": "python",
   "nbconvert_exporter": "python",
   "pygments_lexer": "ipython3",
   "version": "3.7.4"
  }
 },
 "nbformat": 4,
 "nbformat_minor": 5
}
