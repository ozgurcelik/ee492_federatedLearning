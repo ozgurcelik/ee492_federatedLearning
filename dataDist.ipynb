{
 "cells": [
  {
   "cell_type": "code",
   "execution_count": 1,
   "id": "little-bonus",
   "metadata": {},
   "outputs": [],
   "source": [
    "import numpy as np\n",
    "import os\n",
    "import glob\n",
    "import PIL\n",
    "import PIL.Image\n",
    "import tensorflow as tf\n",
    "import tensorflow_datasets as tfds\n",
    "import collections\n",
    "from sklearn.model_selection import train_test_split\n",
    "import matplotlib.image as mpimg\n",
    "import matplotlib.pyplot as plt\n",
    "import pandas as pd\n",
    "import tensorflow_federated as tff\n",
    "import random"
   ]
  },
  {
   "cell_type": "code",
   "execution_count": 2,
   "id": "liable-rabbit",
   "metadata": {},
   "outputs": [],
   "source": [
    "dsdir = \"C:/Users/temmuz/Desktop/2022-2/proje/stanford/dataset\"\n",
    "class_count = np.zeros((6,11))\n",
    "for i in range(6):\n",
    "    dsdiri = dsdir+\"/\"+str(i)\n",
    "    for j in range(11):\n",
    "        dsdirij = dsdiri+\"/\"+str(j)+'/*.jpg'\n",
    "        class_count[i,j] += len(glob.glob(dsdirij))"
   ]
  },
  {
   "cell_type": "code",
   "execution_count": 68,
   "id": "alone-piano",
   "metadata": {},
   "outputs": [],
   "source": [
    "class_count = class_count.astype(int)\n",
    "class_count2 = np.copy(class_count)\n",
    "class_count2[:,0] = class_count[:,0]*[0.1,0.1,0.1,0.1,0.5,0.1]\n",
    "class_count2[:,1] = class_count[:,1]*2\n",
    "class_count2[:,3] = class_count[:,3]*2\n",
    "class_count2[:,4] = class_count[:,4]*6\n",
    "class_count2[:,5] = class_count[:,5]*[0.1,0.1,0.1,0.1,0.7,0.1]\n",
    "class_count2[:,6] = class_count[:,6]*15\n",
    "class_count2[:,7] = class_count[:,7]*10\n",
    "class_count2[:,8] = class_count[:,8]*4\n",
    "class_count2[:,9] = class_count[:,9]*2\n",
    "class_count2[:,10] = class_count[:,10]*3\n",
    "class_count2 = class_count2.astype(int)"
   ]
  },
  {
   "cell_type": "code",
   "execution_count": 74,
   "id": "warming-corporation",
   "metadata": {},
   "outputs": [
    {
     "data": {
      "text/plain": [
       "array([[5728,  641,    0,    0,    0, 3409,  127,  124,    0,    0,  298],\n",
       "       [2686,  606, 6371,    0,    0, 4725,    0,    0,    0,  837,  489],\n",
       "       [1406,  258,    0,    0,  607, 1098,    0,    0,    0,   25,  310],\n",
       "       [5231, 1127,    0, 2033,    0, 3705,    0,    0,    0,  401,  771],\n",
       "       [8684,  998,    0,  316,    0, 6582,    0,  202,    0,  514,  297],\n",
       "       [5415,  220,    0,    0,  317, 2859,  113,   92,  874,    0,    0]])"
      ]
     },
     "execution_count": 74,
     "metadata": {},
     "output_type": "execute_result"
    }
   ],
   "source": [
    "class_count"
   ]
  },
  {
   "cell_type": "code",
   "execution_count": 70,
   "id": "figured-influence",
   "metadata": {},
   "outputs": [
    {
     "data": {
      "text/plain": [
       "array([[ 572, 1282,    0,    0,    0,  340, 1905, 1240,    0,    0,  894],\n",
       "       [ 268, 1212, 6371,    0,    0,  472,    0,    0,    0, 1674, 1467],\n",
       "       [ 140,  516,    0,    0, 3642,  109,    0,    0,    0,   50,  930],\n",
       "       [ 523, 2254,    0, 4066,    0,  370,    0,    0,    0,  802, 2313],\n",
       "       [4342, 1996,    0,  632,    0, 4607,    0, 2020,    0, 1028,  891],\n",
       "       [ 541,  440,    0,    0, 1902,  285, 1695,  920, 3496,    0,    0]])"
      ]
     },
     "execution_count": 70,
     "metadata": {},
     "output_type": "execute_result"
    }
   ],
   "source": [
    "class_count2"
   ]
  },
  {
   "cell_type": "code",
   "execution_count": 71,
   "id": "appreciated-aluminum",
   "metadata": {},
   "outputs": [
    {
     "data": {
      "text/plain": [
       "array([6386, 7700, 6371, 4698, 5544, 6183, 3600, 4180, 3496, 3554, 6495])"
      ]
     },
     "execution_count": 71,
     "metadata": {},
     "output_type": "execute_result"
    }
   ],
   "source": [
    "sum(class_count2)"
   ]
  },
  {
   "cell_type": "code",
   "execution_count": 72,
   "id": "committed-medicine",
   "metadata": {},
   "outputs": [
    {
     "data": {
      "text/plain": [
       "array([ 6233, 11464,  5387, 10328, 15516,  9279])"
      ]
     },
     "execution_count": 72,
     "metadata": {},
     "output_type": "execute_result"
    }
   ],
   "source": [
    "np.sum(class_count2,1)"
   ]
  },
  {
   "cell_type": "code",
   "execution_count": 27,
   "id": "vietnamese-craft",
   "metadata": {},
   "outputs": [
    {
     "data": {
      "text/plain": [
       "11111"
      ]
     },
     "execution_count": 27,
     "metadata": {},
     "output_type": "execute_result"
    }
   ],
   "source": [
    "sum(class_count2[1])"
   ]
  },
  {
   "cell_type": "code",
   "execution_count": 28,
   "id": "unlikely-personal",
   "metadata": {},
   "outputs": [
    {
     "data": {
      "text/plain": [
       "array([ 537,  606, 6371,    0,    0,  945,    0,    0,    0, 1674,  978])"
      ]
     },
     "execution_count": 28,
     "metadata": {},
     "output_type": "execute_result"
    }
   ],
   "source": [
    "class_count2[1]"
   ]
  },
  {
   "cell_type": "code",
   "execution_count": 30,
   "id": "mobile-africa",
   "metadata": {},
   "outputs": [
    {
     "data": {
      "text/plain": [
       "11111"
      ]
     },
     "execution_count": 30,
     "metadata": {},
     "output_type": "execute_result"
    }
   ],
   "source": [
    "537+606+6371+945+1674+978"
   ]
  },
  {
   "cell_type": "code",
   "execution_count": 73,
   "id": "chief-mercury",
   "metadata": {},
   "outputs": [
    {
     "data": {
      "text/plain": [
       "58207"
      ]
     },
     "execution_count": 73,
     "metadata": {},
     "output_type": "execute_result"
    }
   ],
   "source": [
    "np.sum(class_count2)"
   ]
  },
  {
   "cell_type": "code",
   "execution_count": 39,
   "id": "residential-season",
   "metadata": {},
   "outputs": [
    {
     "data": {
      "text/plain": [
       "array([0, 2, 0, 0, 0, 0], dtype=int64)"
      ]
     },
     "execution_count": 39,
     "metadata": {},
     "output_type": "execute_result"
    }
   ],
   "source": [
    "np.argmax(class_count,1)"
   ]
  },
  {
   "cell_type": "code",
   "execution_count": 40,
   "id": "equipped-daily",
   "metadata": {},
   "outputs": [
    {
     "data": {
      "text/plain": [
       "array([5728, 2686, 1406, 5231, 8684, 5415])"
      ]
     },
     "execution_count": 40,
     "metadata": {},
     "output_type": "execute_result"
    }
   ],
   "source": [
    "class_count[:,0]"
   ]
  },
  {
   "cell_type": "code",
   "execution_count": 42,
   "id": "monetary-appraisal",
   "metadata": {},
   "outputs": [
    {
     "data": {
      "text/plain": [
       "array([1, 2, 3, 4, 5, 6])"
      ]
     },
     "execution_count": 42,
     "metadata": {},
     "output_type": "execute_result"
    }
   ],
   "source": [
    "a = np.array([1,2,3,4,5,6])\n",
    "a"
   ]
  },
  {
   "cell_type": "code",
   "execution_count": 43,
   "id": "widespread-research",
   "metadata": {},
   "outputs": [
    {
     "data": {
      "text/plain": [
       "array([ 5728,  5372,  4218, 20924, 43420, 32490])"
      ]
     },
     "execution_count": 43,
     "metadata": {},
     "output_type": "execute_result"
    }
   ],
   "source": [
    "class_count[:,0]*a"
   ]
  },
  {
   "cell_type": "code",
   "execution_count": 77,
   "id": "ceramic-nebraska",
   "metadata": {},
   "outputs": [],
   "source": [
    "class_count3 = np.zeros((3,11))\n",
    "class_count3[0,:] = class_count[0,:]+class_count[2,:]+class_count[5,:]\n",
    "class_count3[1,:] = class_count[1,:]+class_count[3,:]\n",
    "class_count3[2,:] = class_count[4,:]\n",
    "class_count3 = class_count3.astype(int)"
   ]
  },
  {
   "cell_type": "code",
   "execution_count": 79,
   "id": "activated-vacation",
   "metadata": {},
   "outputs": [
    {
     "data": {
      "text/plain": [
       "array([[12549,  1119,     0,     0,   924,  7366,   240,   216,   874,\n",
       "           25,   608],\n",
       "       [ 7917,  1733,  6371,  2033,     0,  8430,     0,     0,     0,\n",
       "         1238,  1260],\n",
       "       [ 8684,   998,     0,   316,     0,  6582,     0,   202,     0,\n",
       "          514,   297]])"
      ]
     },
     "execution_count": 79,
     "metadata": {},
     "output_type": "execute_result"
    }
   ],
   "source": [
    "class_count3"
   ]
  },
  {
   "cell_type": "code",
   "execution_count": 81,
   "id": "golden-guyana",
   "metadata": {},
   "outputs": [
    {
     "data": {
      "text/plain": [
       "array([29150,  3850,  6371,  2349,   924, 22378,   240,   418,   874,\n",
       "        1777,  2165])"
      ]
     },
     "execution_count": 81,
     "metadata": {},
     "output_type": "execute_result"
    }
   ],
   "source": [
    "np.sum(class_count3,0)"
   ]
  },
  {
   "cell_type": "code",
   "execution_count": 82,
   "id": "fancy-switch",
   "metadata": {},
   "outputs": [
    {
     "data": {
      "text/plain": [
       "array([23921, 28982, 17593])"
      ]
     },
     "execution_count": 82,
     "metadata": {},
     "output_type": "execute_result"
    }
   ],
   "source": [
    "np.sum(class_count3,1)"
   ]
  },
  {
   "cell_type": "code",
   "execution_count": 109,
   "id": "brazilian-colon",
   "metadata": {},
   "outputs": [],
   "source": [
    "class_count4 = np.copy(class_count3)\n",
    "ratio0 = 0.2\n",
    "ratio1 = [1,1,3]\n",
    "ratio2 = 0.7\n",
    "ratio3 = 2\n",
    "ratio4 = 5\n",
    "ratio5 = 0.2\n",
    "ratio6 = 17\n",
    "ratio7 = [10,10,15]\n",
    "ratio8 = 5\n",
    "ratio9 = [2,2,4]\n",
    "ratio10 = [2,2,4]\n",
    "class_count4[:,0] = class_count3[:,0]*ratio0\n",
    "class_count4[:,1] = class_count3[:,1]*ratio1\n",
    "class_count4[:,2] = class_count3[:,2]*ratio2\n",
    "class_count4[:,3] = class_count3[:,3]*ratio3\n",
    "class_count4[:,4] = class_count3[:,4]*ratio4\n",
    "class_count4[:,5] = class_count3[:,5]*ratio5\n",
    "class_count4[:,6] = class_count3[:,6]*ratio6\n",
    "class_count4[:,7] = class_count3[:,7]*ratio7\n",
    "class_count4[:,8] = class_count3[:,8]*ratio8\n",
    "class_count4[:,9] = class_count3[:,9]*ratio9\n",
    "class_count4[:,10] = class_count3[:,10]*ratio10"
   ]
  },
  {
   "cell_type": "code",
   "execution_count": 110,
   "id": "electric-fantasy",
   "metadata": {},
   "outputs": [
    {
     "data": {
      "text/plain": [
       "array([[2509, 1119,    0,    0, 4620, 1473, 4080, 2160, 4370,   50, 1216],\n",
       "       [1583, 1733, 4459, 4066,    0, 1686,    0,    0,    0, 2476, 2520],\n",
       "       [1736, 2994,    0,  632,    0, 1316,    0, 3030,    0, 2056, 1188]])"
      ]
     },
     "execution_count": 110,
     "metadata": {},
     "output_type": "execute_result"
    }
   ],
   "source": [
    "class_count4"
   ]
  },
  {
   "cell_type": "code",
   "execution_count": 111,
   "id": "variable-remove",
   "metadata": {},
   "outputs": [
    {
     "data": {
      "text/plain": [
       "array([5828, 5846, 4459, 4698, 4620, 4475, 4080, 5190, 4370, 4582, 4924])"
      ]
     },
     "execution_count": 111,
     "metadata": {},
     "output_type": "execute_result"
    }
   ],
   "source": [
    "np.sum(class_count4,0)"
   ]
  },
  {
   "cell_type": "code",
   "execution_count": 112,
   "id": "intermediate-capital",
   "metadata": {},
   "outputs": [
    {
     "data": {
      "text/plain": [
       "array([21597, 18523, 12952])"
      ]
     },
     "execution_count": 112,
     "metadata": {},
     "output_type": "execute_result"
    }
   ],
   "source": [
    "np.sum(class_count4,1)"
   ]
  },
  {
   "cell_type": "code",
   "execution_count": 104,
   "id": "completed-modern",
   "metadata": {},
   "outputs": [
    {
     "data": {
      "text/plain": [
       "4080"
      ]
     },
     "execution_count": 104,
     "metadata": {},
     "output_type": "execute_result"
    }
   ],
   "source": [
    "240*17"
   ]
  },
  {
   "cell_type": "code",
   "execution_count": null,
   "id": "greatest-intermediate",
   "metadata": {},
   "outputs": [],
   "source": []
  }
 ],
 "metadata": {
  "kernelspec": {
   "display_name": "tffkernel",
   "language": "python",
   "name": "tffkernel"
  },
  "language_info": {
   "codemirror_mode": {
    "name": "ipython",
    "version": 3
   },
   "file_extension": ".py",
   "mimetype": "text/x-python",
   "name": "python",
   "nbconvert_exporter": "python",
   "pygments_lexer": "ipython3",
   "version": "3.7.4"
  }
 },
 "nbformat": 4,
 "nbformat_minor": 5
}
